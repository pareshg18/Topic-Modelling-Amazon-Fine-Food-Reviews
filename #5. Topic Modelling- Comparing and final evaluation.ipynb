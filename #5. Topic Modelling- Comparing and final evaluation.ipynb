{
 "cells": [
  {
   "cell_type": "markdown",
   "metadata": {},
   "source": [
    "### This is part 5 and the final notebook in topic modelling series\n",
    "- Here, I decide between LDA and NMF and choose LDA as my final model based on a few comparisons."
   ]
  },
  {
   "cell_type": "code",
   "execution_count": 197,
   "metadata": {},
   "outputs": [],
   "source": [
    "import pandas as pd\n",
    "import numpy as np\n",
    "from sklearn.feature_extraction.text import CountVectorizer\n",
    "from gensim import matutils,models\n",
    "from nltk import word_tokenize\n",
    "from gensim import corpora\n",
    "from gensim.models.coherencemodel import CoherenceModel\n",
    "import matplotlib.pyplot as plt\n",
    "from gensim.corpora import Dictionary\n",
    "from gensim.models.nmf import Nmf\n",
    "from sklearn.decomposition import NMF\n",
    "import pyLDAvis.gensim\n",
    "pyLDAvis.enable_notebook()\n",
    "from gensim.corpora import Dictionary\n",
    "import spacy\n",
    "import re\n",
    "import pickle\n",
    "import string\n",
    "#loading spacy -en\n",
    "nlp = spacy.load(r'C:\\Users\\pares\\AppData\\Local\\Continuum\\anaconda3\\Lib\\site-packages\\en_core_web_sm\\en_core_web_sm-2.1.0', disable=['parser', 'ner'])\n",
    "import warnings\n",
    "warnings.filterwarnings(\"ignore\")"
   ]
  },
  {
   "cell_type": "markdown",
   "metadata": {},
   "source": [
    "# Evaluating the two models: LDA vs NMF?"
   ]
  },
  {
   "cell_type": "code",
   "execution_count": 44,
   "metadata": {},
   "outputs": [],
   "source": [
    "#loading the cleaned data\n",
    "clean_data_og = pd.read_pickle('clean_data_original.pkl')\n",
    "clean_data_lemma = pd.read_pickle('clean_data_lemmatized.pkl')"
   ]
  },
  {
   "cell_type": "code",
   "execution_count": 41,
   "metadata": {},
   "outputs": [],
   "source": [
    "#loading the two models\n",
    "lda = models.LdaModel.load('final_lda.model')\n",
    "nmf = Nmf.load('nmf11_final_')"
   ]
  },
  {
   "cell_type": "code",
   "execution_count": 46,
   "metadata": {},
   "outputs": [],
   "source": [
    "#loading the corpus\n",
    "corpusmm = corpora.MmCorpus('all_text_corpus.mm')"
   ]
  },
  {
   "cell_type": "markdown",
   "metadata": {},
   "source": [
    "#### Our 2 final models - LDA and NMF- both are prepared using gensim and are prepared on the same training dataset which includes same terms derived from the training set. However, LDA categorized the reviews into 16 topics and NMF categorized it into 11 topics. Lets look at which model is better.\n",
    "\n",
    "### Coherence Score"
   ]
  },
  {
   "cell_type": "code",
   "execution_count": 50,
   "metadata": {},
   "outputs": [],
   "source": [
    "umass_lda = CoherenceModel(model = lda,corpus = corpusmm,coherence = \"u_mass\").get_coherence()\n",
    "umass_nmf = CoherenceModel(model = nmf,corpus = corpusmm,coherence = \"u_mass\").get_coherence()"
   ]
  },
  {
   "cell_type": "code",
   "execution_count": 72,
   "metadata": {},
   "outputs": [
    {
     "data": {
      "image/png": "[encoded data removed]",
      "text/plain": [
       "<Figure size 432x288 with 1 Axes>"
      ]
     },
     "metadata": {
      "needs_background": "light"
     },
     "output_type": "display_data"
    }
   ],
   "source": [
    "temp = pd.DataFrame({'Topic_Model':['LDA','NMF'],'Coherence_Score':[abs(umass_lda),abs(umass_nmf)]})\n",
    "plt.bar(temp.Topic_Model,temp.Coherence_Score)\n",
    "plt.show()"
   ]
  },
  {
   "cell_type": "markdown",
   "metadata": {},
   "source": [
    "- The 2 models are very close as far as coherence scores go. But, here NMF slightly takes the edge since it has a lesser \"umass\" score."
   ]
  },
  {
   "cell_type": "markdown",
   "metadata": {},
   "source": [
    "## Topic Quality\n",
    "\n",
    "- We can definitely compare multiple metrics, but in case of topic modelling, I feel the best way to compare is checking it on the data itself. The metrics can be used to only support the hypothesis/argument. So, lets sample a few documents and check what the two model predict. We'll have to manually read and understand how good the model actually is."
   ]
  },
  {
   "cell_type": "code",
   "execution_count": 172,
   "metadata": {},
   "outputs": [],
   "source": [
    "training,testing = np.split(clean_data_og,[int(0.7*len(clean_data_og))])\n",
    "testing.reset_index(drop = True,inplace = True)"
   ]
  },
  {
   "cell_type": "code",
   "execution_count": 173,
   "metadata": {},
   "outputs": [
    {
     "data": {
      "text/html": [
       "<div>\n",
       "<style scoped>\n",
       "    .dataframe tbody tr th:only-of-type {\n",
       "        vertical-align: middle;\n",
       "    }\n",
       "\n",
       "    .dataframe tbody tr th {\n",
       "        vertical-align: top;\n",
       "    }\n",
       "\n",
       "    .dataframe thead th {\n",
       "        text-align: right;\n",
       "    }\n",
       "</style>\n",
       "<table border=\"1\" class=\"dataframe\">\n",
       "  <thead>\n",
       "    <tr style=\"text-align: right;\">\n",
       "      <th></th>\n",
       "      <th>id</th>\n",
       "      <th>title</th>\n",
       "      <th>review</th>\n",
       "    </tr>\n",
       "  </thead>\n",
       "  <tbody>\n",
       "    <tr>\n",
       "      <th>0</th>\n",
       "      <td>375440</td>\n",
       "      <td>Instant? Fooled my guests.</td>\n",
       "      <td>These are so good I can not believe they are i...</td>\n",
       "    </tr>\n",
       "    <tr>\n",
       "      <th>1</th>\n",
       "      <td>375441</td>\n",
       "      <td>You could have fooled me!</td>\n",
       "      <td>I love the Idahoan roasted garlic mashed potat...</td>\n",
       "    </tr>\n",
       "    <tr>\n",
       "      <th>2</th>\n",
       "      <td>375442</td>\n",
       "      <td>lemon bear</td>\n",
       "      <td>I ordered the lemon flavor bear as a gift.  It...</td>\n",
       "    </tr>\n",
       "    <tr>\n",
       "      <th>3</th>\n",
       "      <td>375444</td>\n",
       "      <td>best tea ever</td>\n",
       "      <td>I have been a tea-lover for 30 plus years. som...</td>\n",
       "    </tr>\n",
       "    <tr>\n",
       "      <th>4</th>\n",
       "      <td>375445</td>\n",
       "      <td>dehydrated onions are minced</td>\n",
       "      <td>I bought this item because, unlike other optio...</td>\n",
       "    </tr>\n",
       "  </tbody>\n",
       "</table>\n",
       "</div>"
      ],
      "text/plain": [
       "       id                         title  \\\n",
       "0  375440    Instant? Fooled my guests.   \n",
       "1  375441     You could have fooled me!   \n",
       "2  375442                    lemon bear   \n",
       "3  375444                 best tea ever   \n",
       "4  375445  dehydrated onions are minced   \n",
       "\n",
       "                                              review  \n",
       "0  These are so good I can not believe they are i...  \n",
       "1  I love the Idahoan roasted garlic mashed potat...  \n",
       "2  I ordered the lemon flavor bear as a gift.  It...  \n",
       "3  I have been a tea-lover for 30 plus years. som...  \n",
       "4  I bought this item because, unlike other optio...  "
      ]
     },
     "execution_count": 173,
     "metadata": {},
     "output_type": "execute_result"
    }
   ],
   "source": [
    "#these are cleaned texts, and were separted in the initial phase and have not been used for modelling\n",
    "testing.head()"
   ]
  },
  {
   "cell_type": "markdown",
   "metadata": {},
   "source": [
    "- Before going ahead with our predictions, lets import/copy all the previously created functions that we would be needing"
   ]
  },
  {
   "cell_type": "code",
   "execution_count": 252,
   "metadata": {},
   "outputs": [],
   "source": [
    "dct_lda = Dictionary.from_corpus(corpusmm,id2word = lda.id2word)\n",
    "dct_nmf = Dictionary.from_corpus(corpusmm,id2word = nmf.id2word)\n",
    "#importing previously created stop-words\n",
    "with open('stop_words_amazon', 'rb') as f:\n",
    "    stop_words = pickle.load(f)\n",
    "#function to clean the reviews\n",
    "def clean_text(text):\n",
    "    text = text.lower() #lower-casing\n",
    "    text = [i for i in word_tokenize(text) if i not in stop_words] #remvoving stop-words\n",
    "    doc = nlp(' '.join(text))\n",
    "    text = [token.lemma_ for token in doc] #lemmatizing the reviews\n",
    "    text = ' '.join(text)    \n",
    "    text = re.sub(r'\\d+','',text) #removing numbers\n",
    "    text = text.translate(str.maketrans('','',string.punctuation)) #removing punctuation\n",
    "    text = text.strip() #removing white-spaces\n",
    "    return text"
   ]
  },
  {
   "cell_type": "code",
   "execution_count": 217,
   "metadata": {},
   "outputs": [],
   "source": [
    "#summarized themes of topics\n",
    "lda_theme = {0:'Delivery/ Order Related Issues',1:'Breakfast Food',2:'Chewing Gums/ Dog Treats',3:'Bad Products',4:'Energy Drinks/ Sports Drinks',5:'Packaging Bags',\n",
    "             6:'Sweet Snacks(Chocolates)',7:'Beverages (Juices)',8:'Gifts/High Calorie Foods', 9:'Spicy Food/ Soups',10:'A Baking Recipe',11:'Pet Issues',\n",
    "             12:'Tea(s)',13:'Salty Snacks(Crackers)', 14:'Hair Products/ Cat Issues', 15: 'Coffee'}\n",
    "nmf_theme = {-1:'Random/ no particular topic',0:'Salty Snacks',1:'Cat Food',2:'Tea(s)',3:'Sweet Snacks',4:'Coffee Flavors',\n",
    "             5:'Chocolates',6:'Oils',7:'Recipe', 8:'Coffee equipments',9:'Beverages',10:'Dog Treats/ Food'}"
   ]
  },
  {
   "cell_type": "markdown",
   "metadata": {},
   "source": [
    "## Theme Predictions\n",
    "\n",
    "- Lets sample a few documents from the testing set and see which model categorizes/ summarizes the documents better"
   ]
  },
  {
   "cell_type": "code",
   "execution_count": 292,
   "metadata": {},
   "outputs": [],
   "source": [
    "#predicting LDA topic\n",
    "def predict_topic(document):\n",
    "    print(\"--------The given document reads------------\")\n",
    "    print(\"\")\n",
    "    print(document)\n",
    "    document = clean_text(document)\n",
    "    doc_vector_lda = dct_lda.doc2bow(word_tokenize(document))\n",
    "    doc_vector_nmf = dct_nmf.doc2bow(word_tokenize(document))\n",
    "    topic1,perc1 = sorted(lda[doc_vector_lda],key = lambda x:x[1],reverse = True)[0]\n",
    "    topic2,perc2 = sorted(nmf[doc_vector_nmf],key = lambda x:x[1],reverse = True)[0]\n",
    "    print(\"\")\n",
    "    print(\"LDA predicts this document to be talking about\",'\\x1b[1;31m'+ lda_theme[topic1]  +'\\x1b[0m')\n",
    "    print(\"NMF predicts this document to be talking about\",'\\x1b[1;34m'+ nmf_theme[topic2]  +'\\x1b[0m')\n",
    "    print(\"\")"
   ]
  },
  {
   "cell_type": "code",
   "execution_count": 288,
   "metadata": {},
   "outputs": [],
   "source": [
    "sample_docs = testing.sample(10)\n",
    "sample_docs.reset_index(inplace = True,drop = True)"
   ]
  },
  {
   "cell_type": "code",
   "execution_count": 299,
   "metadata": {
    "scrolled": false
   },
   "outputs": [
    {
     "name": "stdout",
     "output_type": "stream",
     "text": [
      "Document Summary provided by user: Wife loved the gumballs\n",
      "\n",
      "--------The given document reads------------\n",
      "\n",
      "Although it took 3 bags of the gumballs to fill up her big gumball machine, my wife loved them :)  I am glad I got the 12 pack instead of just getting a couple and not having enough.\n",
      "\n",
      "LDA predicts this document to be talking about \u001b[1;31mPackaging Bags\u001b[0m\n",
      "NMF predicts this document to be talking about \u001b[1;34mSalty Snacks\u001b[0m\n",
      "\n",
      "------------------------------------------------------------------------------------------------------------------------\n",
      "Document Summary provided by user: Best K-Cup dispenser ever!\n",
      "\n",
      "--------The given document reads------------\n",
      "\n",
      "I absolutely love this under cabinet K-cup dispenser. It gives me more counter room and is almost hidden. What a great idea! I found it on Amazon.com and am amazed each time I use it. My husband installed it for me quickly and easily. It came with screws and it is wonderful. It iss easy to pull down to choose the K-cup I or my guests want, and just as easily, is pushed up again under my cabinet. I highly recommend this dispenser for anyone who wants more counter space or even just wants to have the most innovative design available.\n",
      "\n",
      "LDA predicts this document to be talking about \u001b[1;31mPackaging Bags\u001b[0m\n",
      "NMF predicts this document to be talking about \u001b[1;34mRecipe\u001b[0m\n",
      "\n",
      "------------------------------------------------------------------------------------------------------------------------\n",
      "Document Summary provided by user: demitri is bloody mary mix\n",
      "\n",
      "--------The given document reads------------\n",
      "\n",
      "I saw this Demitri is Bloody Mary seasoning in a magazine in my doctor is office.  I went online and found the website and decided to try Amazon first to see if I could get it through them.  We got the package of 3 bottles.  Tried it the first night we got it. It is by far the best bloody mary seasoning we have tried. It has the perfect blend of seasoning and spice! We recommend it to anyone who loves a good bloody mary! It is excellent!\n",
      "\n",
      "LDA predicts this document to be talking about \u001b[1;31mEnergy Drinks/ Sports Drinks\u001b[0m\n",
      "NMF predicts this document to be talking about \u001b[1;34mRecipe\u001b[0m\n",
      "\n",
      "------------------------------------------------------------------------------------------------------------------------\n",
      "Document Summary provided by user: Easy to Use, but Nasty Aftertaste\n",
      "\n",
      "--------The given document reads------------\n",
      "\n",
      "I received the Vitamin Squeeze Energy Drink in Fruit Punch through Amazon Vine. Thankfully, I did not pay for it. My first bad experience with the \"Lift n' Pull\" safety tab that would not budge. After taking scissors to it, I finally got it open without making too much of a mess. There does not seem to be any harmful ingredients, and no calories, carbs, sodium, etc. But there is \"natural caffeine\" and vitamins. With so many chemical ingredients listed, I doubt the \"natural\" part of it. With a short squeeze it only diluted the water and barely had a taste, so I sqeezed a bit more in. It tastes a bit like a citrusy-fruit punch. Not too bad. But then the after taste hit me, and I can not get the nasty sickly-sweet taste out of my mouth. I think I will stick with the sugar-free drink mixes from Crystal Light. They taste better. And I had rather stay away from the caffeine.\n",
      "\n",
      "LDA predicts this document to be talking about \u001b[1;31mEnergy Drinks/ Sports Drinks\u001b[0m\n",
      "NMF predicts this document to be talking about \u001b[1;34mBeverages\u001b[0m\n",
      "\n",
      "------------------------------------------------------------------------------------------------------------------------\n",
      "Document Summary provided by user: Tasty, healthy, crunchy breakfast cereal. A fave\n",
      "\n",
      "--------The given document reads------------\n",
      "\n",
      "We regularly have different Dorset Cereals for breakfast and can thoroughly recommend the brand. They make really top-quality muesli and cereals which achieve the difficult trick of being tasty and nutritious. The levels of added sugars and salt are kept to a minimum; Dorset Cereals tend to get their flavour by including high proportions of fruit, nuts and seeds.(A word of caution, however! This does mean that they contain a reasonable level of fats and sugars, but in natural forms rather than processed artificial types. So the calorie count can be quite high, if you are watching your weight BUT this is offset by the low glycaemic impact of the food. Dorset Cereals tend to take quite a while to digest, can be very filling, and leave you feeling satisfied for a long time. You just need to watch the portion size...)This variety is a really tasty one; I adore the more fruity flavours and you can really taste the cranberries and cherries even though there is only a small amount of them in the recipe. The flame raisins are in a lot of Dorset Cereals and add to the overall chewyness and the different types of flakes mean that each spoonful is interestingly varied.This cereal is around 7% fiber, 10% protein and 63% carbohydrate overall. It is naturally quite juicy - unlike some mueslis which can be really dry and dusty - and the fruit makes it very tasty, so you do not get bored by the end of the box.One of our favourite flavours.9/10\n",
      "\n",
      "LDA predicts this document to be talking about \u001b[1;31mBreakfast Food\u001b[0m\n",
      "NMF predicts this document to be talking about \u001b[1;34mRecipe\u001b[0m\n",
      "\n",
      "------------------------------------------------------------------------------------------------------------------------\n",
      "Document Summary provided by user: excellent value\n",
      "\n",
      "--------The given document reads------------\n",
      "\n",
      "Excellent value for a premium product. As typical for dried product, as many broken pieces as whole mushrooms, but immaterial for something usually diced after reconstituting. Great flavor boost for soups, sauces, risottos - really anything braised, simmered or blended.\n",
      "\n",
      "LDA predicts this document to be talking about \u001b[1;31mSpicy Food/ Soups\u001b[0m\n",
      "NMF predicts this document to be talking about \u001b[1;34mRecipe\u001b[0m\n",
      "\n",
      "------------------------------------------------------------------------------------------------------------------------\n",
      "Document Summary provided by user: Good morning coffee!\n",
      "\n",
      "--------The given document reads------------\n",
      "\n",
      "This is a good flavor of coffee that I have tasted that it is true to it is name, but a little light on the flavor as a mild coffee in the morning it is a good wake me up.I my self enjoy my Keurig B70 model, as it is most versatile machine I have ever seen not only you can use k-cup portion pack but you can use your coffee or tea, you can also use it as a hot water dispenser for oatmeal and hot cereal.I will certainly try other k-cup portion packs to find my favorite flavor/blend that I will enjoy in the future.\n",
      "\n",
      "LDA predicts this document to be talking about \u001b[1;31mCoffee\u001b[0m\n",
      "NMF predicts this document to be talking about \u001b[1;34mCoffee Flavors\u001b[0m\n",
      "\n",
      "------------------------------------------------------------------------------------------------------------------------\n",
      "Document Summary provided by user: PB2 is awesome\n",
      "\n",
      "--------The given document reads------------\n",
      "\n",
      "I tried PB2 at work one day and I have to admit I love it. I eat a lot of Peanut Butter and thought there is no way I would like it but it actually tastes awesome. I just wonder if you can make it ahead of time and and let it sit in the fridge so you do not have to make everytime you want to eat it.So Good!!!!\n",
      "\n",
      "LDA predicts this document to be talking about \u001b[1;31mGifts/High Calorie Foods\u001b[0m\n",
      "NMF predicts this document to be talking about \u001b[1;34mRecipe\u001b[0m\n",
      "\n",
      "------------------------------------------------------------------------------------------------------------------------\n",
      "Document Summary provided by user: Too Sweet\n",
      "\n",
      "--------The given document reads------------\n",
      "\n",
      "I have tried several varieties of the K-cups now, coffees, teas, and hot chocolate and I have enjoyed several, but these I found to be much too sweet.  I love the Caribou Blend K-Cup Single-Serving Coffee 108 ct.and Green Mountain - Keurig - Nantucket Blend - K-Cup - Box of 24 KCups for the coffees. For the teas I enjoy Twinings Keurig K-Cups African Rooiobos Tea for Keurig Brewers, 25-Count K-Cups (Pack of 2) and Celestial Seasonings K-cups India Spice Chai, 8.8-Ounce Boxes (Pack of 2) as well as the any of the English Breakfast Teas.\n",
      "\n",
      "LDA predicts this document to be talking about \u001b[1;31mCoffee\u001b[0m\n",
      "NMF predicts this document to be talking about \u001b[1;34mCoffee equipments\u001b[0m\n",
      "\n",
      "------------------------------------------------------------------------------------------------------------------------\n",
      "Document Summary provided by user: The ONLY chips I eat now!!\n",
      "\n",
      "--------The given document reads------------\n",
      "\n",
      "I have been eating these for years now and I absolutely love them!  They are good with salsa, hummus, or alone.  The other Glenny is crisps are just too salty for me, but these are perfect.  I will continue to buy cases of these here at Amazon (best price!).IMPORTANT NOTE:  The nutritional information here at Amazon is what is on the bag, but just be aware that it is for ONE SERVING and the 1.3 oz bag contains TWO servings.\n",
      "\n",
      "LDA predicts this document to be talking about \u001b[1;31mSalty Snacks(Crackers)\u001b[0m\n",
      "NMF predicts this document to be talking about \u001b[1;34mSalty Snacks\u001b[0m\n",
      "\n",
      "------------------------------------------------------------------------------------------------------------------------\n"
     ]
    }
   ],
   "source": [
    "for i in range(len(sample_docs)):\n",
    "    print(\"Document Summary provided by user:\",sample_docs.title[i])\n",
    "    print(\"\")\n",
    "    predict_topic(sample_docs.review[i])\n",
    "    print(\"--\"*60)"
   ]
  },
  {
   "cell_type": "markdown",
   "metadata": {},
   "source": [
    "## Conclusion"
   ]
  },
  {
   "cell_type": "markdown",
   "metadata": {},
   "source": [
    "In my opinion, LDA does a better job here. Both the models have been good picking the topics for majority of documents but LDA takes a slight edge, so I'm gonna use it as my final model here. And now lets deploy this model.\n",
    "\n",
    "#### ------ Analysis End-------------"
   ]
  },
  {
   "cell_type": "code",
   "execution_count": null,
   "metadata": {},
   "outputs": [],
   "source": []
  },
  {
   "cell_type": "code",
   "execution_count": null,
   "metadata": {},
   "outputs": [],
   "source": []
  },
  {
   "cell_type": "code",
   "execution_count": null,
   "metadata": {},
   "outputs": [],
   "source": []
  }
 ],
 "metadata": {
  "kernelspec": {
   "display_name": "Python 3",
   "language": "python",
   "name": "python3"
  },
  "language_info": {
   "codemirror_mode": {
    "name": "ipython",
    "version": 3
   },
   "file_extension": ".py",
   "mimetype": "text/x-python",
   "name": "python",
   "nbconvert_exporter": "python",
   "pygments_lexer": "ipython3",
   "version": "3.7.3"
  }
 },
 "nbformat": 4,
 "nbformat_minor": 2
}
