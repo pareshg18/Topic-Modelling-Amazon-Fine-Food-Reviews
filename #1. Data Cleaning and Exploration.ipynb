{
 "cells": [
  {
   "cell_type": "code",
   "execution_count": 1,
   "metadata": {},
   "outputs": [
    {
     "name": "stderr",
     "output_type": "stream",
     "text": [
      "C:\\Users\\pares\\AppData\\Local\\Continuum\\anaconda3\\lib\\site-packages\\gensim\\utils.py:1197: UserWarning: detected Windows; aliasing chunkize to chunkize_serial\n",
      "  warnings.warn(\"detected Windows; aliasing chunkize to chunkize_serial\")\n"
     ]
    }
   ],
   "source": [
    "import sqlite3\n",
    "import pandas as pd\n",
    "import numpy as np\n",
    "from nltk.tokenize import word_tokenize\n",
    "from nltk.corpus import stopwords\n",
    "from nltk.stem import PorterStemmer\n",
    "import nltk\n",
    "import re\n",
    "import string\n",
    "import spacy\n",
    "import itertools\n",
    "from collections import Counter\n",
    "import matplotlib.pyplot as plt\n",
    "from sklearn.metrics import silhouette_score\n",
    "from sklearn.cluster import KMeans\n",
    "from wordcloud import WordCloud, STOPWORDS\n",
    "import matplotlib.colors as mcolors\n",
    "import time\n",
    "import scipy.sparse\n",
    "from gensim import matutils,models\n",
    "from gensim import corpora\n",
    "from gensim.models.coherencemodel import CoherenceModel\n",
    "from nltk import pos_tag\n",
    "import time\n",
    "import numpy as np\n",
    "import multiprocess as mp\n",
    "import warnings\n",
    "warnings.filterwarnings(\"ignore\")"
   ]
  },
  {
   "cell_type": "code",
   "execution_count": 2,
   "metadata": {},
   "outputs": [],
   "source": [
    "#Connecting to the sqlite database and fetching all the data\n",
    "conn = sqlite3.connect(\"C:/Users/pares/Downloads/18_2157_compressed_database.sqlite/database.sqlite\")\n",
    "data = pd.read_sql_query(\"\"\" \n",
    "SELECT *\n",
    "FROM Reviews\n",
    "\"\"\",conn)"
   ]
  },
  {
   "cell_type": "code",
   "execution_count": 3,
   "metadata": {},
   "outputs": [
    {
     "name": "stdout",
     "output_type": "stream",
     "text": [
      "<class 'pandas.core.frame.DataFrame'>\n",
      "RangeIndex: 568454 entries, 0 to 568453\n",
      "Data columns (total 10 columns):\n",
      "Id                        568454 non-null int64\n",
      "ProductId                 568454 non-null object\n",
      "UserId                    568454 non-null object\n",
      "ProfileName               568454 non-null object\n",
      "HelpfulnessNumerator      568454 non-null int64\n",
      "HelpfulnessDenominator    568454 non-null int64\n",
      "Score                     568454 non-null int64\n",
      "Time                      568454 non-null int64\n",
      "Summary                   568454 non-null object\n",
      "Text                      568454 non-null object\n",
      "dtypes: int64(5), object(5)\n",
      "memory usage: 43.4+ MB\n"
     ]
    },
    {
     "data": {
      "text/html": [
       "<div>\n",
       "<style scoped>\n",
       "    .dataframe tbody tr th:only-of-type {\n",
       "        vertical-align: middle;\n",
       "    }\n",
       "\n",
       "    .dataframe tbody tr th {\n",
       "        vertical-align: top;\n",
       "    }\n",
       "\n",
       "    .dataframe thead th {\n",
       "        text-align: right;\n",
       "    }\n",
       "</style>\n",
       "<table border=\"1\" class=\"dataframe\">\n",
       "  <thead>\n",
       "    <tr style=\"text-align: right;\">\n",
       "      <th></th>\n",
       "      <th>Id</th>\n",
       "      <th>ProductId</th>\n",
       "      <th>UserId</th>\n",
       "      <th>ProfileName</th>\n",
       "      <th>HelpfulnessNumerator</th>\n",
       "      <th>HelpfulnessDenominator</th>\n",
       "      <th>Score</th>\n",
       "      <th>Time</th>\n",
       "      <th>Summary</th>\n",
       "      <th>Text</th>\n",
       "    </tr>\n",
       "  </thead>\n",
       "  <tbody>\n",
       "    <tr>\n",
       "      <th>0</th>\n",
       "      <td>1</td>\n",
       "      <td>B001E4KFG0</td>\n",
       "      <td>A3SGXH7AUHU8GW</td>\n",
       "      <td>delmartian</td>\n",
       "      <td>1</td>\n",
       "      <td>1</td>\n",
       "      <td>5</td>\n",
       "      <td>1303862400</td>\n",
       "      <td>Good Quality Dog Food</td>\n",
       "      <td>I have bought several of the Vitality canned d...</td>\n",
       "    </tr>\n",
       "    <tr>\n",
       "      <th>1</th>\n",
       "      <td>2</td>\n",
       "      <td>B00813GRG4</td>\n",
       "      <td>A1D87F6ZCVE5NK</td>\n",
       "      <td>dll pa</td>\n",
       "      <td>0</td>\n",
       "      <td>0</td>\n",
       "      <td>1</td>\n",
       "      <td>1346976000</td>\n",
       "      <td>Not as Advertised</td>\n",
       "      <td>Product arrived labeled as Jumbo Salted Peanut...</td>\n",
       "    </tr>\n",
       "    <tr>\n",
       "      <th>2</th>\n",
       "      <td>3</td>\n",
       "      <td>B000LQOCH0</td>\n",
       "      <td>ABXLMWJIXXAIN</td>\n",
       "      <td>Natalia Corres \"Natalia Corres\"</td>\n",
       "      <td>1</td>\n",
       "      <td>1</td>\n",
       "      <td>4</td>\n",
       "      <td>1219017600</td>\n",
       "      <td>\"Delight\" says it all</td>\n",
       "      <td>This is a confection that has been around a fe...</td>\n",
       "    </tr>\n",
       "    <tr>\n",
       "      <th>3</th>\n",
       "      <td>4</td>\n",
       "      <td>B000UA0QIQ</td>\n",
       "      <td>A395BORC6FGVXV</td>\n",
       "      <td>Karl</td>\n",
       "      <td>3</td>\n",
       "      <td>3</td>\n",
       "      <td>2</td>\n",
       "      <td>1307923200</td>\n",
       "      <td>Cough Medicine</td>\n",
       "      <td>If you are looking for the secret ingredient i...</td>\n",
       "    </tr>\n",
       "    <tr>\n",
       "      <th>4</th>\n",
       "      <td>5</td>\n",
       "      <td>B006K2ZZ7K</td>\n",
       "      <td>A1UQRSCLF8GW1T</td>\n",
       "      <td>Michael D. Bigham \"M. Wassir\"</td>\n",
       "      <td>0</td>\n",
       "      <td>0</td>\n",
       "      <td>5</td>\n",
       "      <td>1350777600</td>\n",
       "      <td>Great taffy</td>\n",
       "      <td>Great taffy at a great price.  There was a wid...</td>\n",
       "    </tr>\n",
       "  </tbody>\n",
       "</table>\n",
       "</div>"
      ],
      "text/plain": [
       "   Id   ProductId          UserId                      ProfileName  \\\n",
       "0   1  B001E4KFG0  A3SGXH7AUHU8GW                       delmartian   \n",
       "1   2  B00813GRG4  A1D87F6ZCVE5NK                           dll pa   \n",
       "2   3  B000LQOCH0   ABXLMWJIXXAIN  Natalia Corres \"Natalia Corres\"   \n",
       "3   4  B000UA0QIQ  A395BORC6FGVXV                             Karl   \n",
       "4   5  B006K2ZZ7K  A1UQRSCLF8GW1T    Michael D. Bigham \"M. Wassir\"   \n",
       "\n",
       "   HelpfulnessNumerator  HelpfulnessDenominator  Score        Time  \\\n",
       "0                     1                       1      5  1303862400   \n",
       "1                     0                       0      1  1346976000   \n",
       "2                     1                       1      4  1219017600   \n",
       "3                     3                       3      2  1307923200   \n",
       "4                     0                       0      5  1350777600   \n",
       "\n",
       "                 Summary                                               Text  \n",
       "0  Good Quality Dog Food  I have bought several of the Vitality canned d...  \n",
       "1      Not as Advertised  Product arrived labeled as Jumbo Salted Peanut...  \n",
       "2  \"Delight\" says it all  This is a confection that has been around a fe...  \n",
       "3         Cough Medicine  If you are looking for the secret ingredient i...  \n",
       "4            Great taffy  Great taffy at a great price.  There was a wid...  "
      ]
     },
     "execution_count": 3,
     "metadata": {},
     "output_type": "execute_result"
    }
   ],
   "source": [
    "data.info()\n",
    "data.head()"
   ]
  },
  {
   "cell_type": "markdown",
   "metadata": {},
   "source": [
    "#### About the data\n",
    "\n",
    "- We have a total of 568,454 reviews. The data has been collected from Oct 1999-Oct 2012. All we know is, these reviews are about Food products available at Amazon. Looking at the data, we can use the Summary and Text fields to understand more about what the reviews are about.\n",
    "\n",
    "- Lets perform \"Topic Modelling\" on the reviews, and learn the different topics, that can help us categorize these reviews further.\n",
    "\n",
    "- There doesn't seem to be any missing values here. The Id column is not originally present in the data on the website. This must be added later on, to make it a SQL database. \n",
    "\n",
    "- Columns other than Summary and Text are not relevant for this project since, we only require the textual reviews to learn about the \"topics\" present in the data.\n"
   ]
  },
  {
   "cell_type": "code",
   "execution_count": 320,
   "metadata": {},
   "outputs": [],
   "source": [
    "#Lets start understanding more the data and clean it in the process\n",
    "clean_data = data.drop(columns = [\"Id\"])"
   ]
  },
  {
   "cell_type": "markdown",
   "metadata": {},
   "source": [
    "## Data Exploration"
   ]
  },
  {
   "cell_type": "code",
   "execution_count": 44,
   "metadata": {},
   "outputs": [
    {
     "data": {
      "text/plain": [
       "count    568454.000000\n",
       "mean        436.222083\n",
       "std         445.339741\n",
       "min          12.000000\n",
       "25%         179.000000\n",
       "50%         302.000000\n",
       "75%         527.000000\n",
       "max       21409.000000\n",
       "Name: Text, dtype: float64"
      ]
     },
     "execution_count": 44,
     "metadata": {},
     "output_type": "execute_result"
    },
    {
     "data": {
      "image/png": "[encoded data removed]",
      "text/plain": [
       "<Figure size 432x288 with 1 Axes>"
      ]
     },
     "metadata": {
      "needs_background": "light"
     },
     "output_type": "display_data"
    }
   ],
   "source": [
    "#How long are our reviews?\n",
    "clean_data.Text.apply(len).hist(bins =20)\n",
    "clean_data.Text.apply(len).describe()"
   ]
  },
  {
   "cell_type": "markdown",
   "metadata": {},
   "source": [
    "Mostly, reviews extend from a few lines to short paragraphs. There are a few very long reviews that might extend to several pages."
   ]
  },
  {
   "cell_type": "code",
   "execution_count": 15,
   "metadata": {},
   "outputs": [
    {
     "data": {
      "text/plain": [
       "[\"Fuzzy Wuzzy's Summary:<br />*** Somewhat recommended, with reservations and only lukewarm fuzzies.<br /><br />Positives:<br /><br />+ Not too\",\n",
       " \"expensive compared to other bottled water, although it is not cheap either.<br /><br />Negatives:<br /><br />- This bottled water product's labeling,\",\n",
       " 'product descriptions, and health claims are misleading.<br /><br />At first glance, this 1.5-liter bottle of water that I am reviewing looks like',\n",
       " 'another one of the many varieties of bottled water on the market.  There are many kinds of bottled water: \"spring water\" produced from an underground',\n",
       " 'formation where the groundwater naturally flows up to the Earth\\'s surface, \"artesian water\" obtained from a well that taps into an underground',\n",
       " 'aquifer, \"mineral water\" produced from a well or spring that naturally contains trace amounts of minerals that some people consider to provide health',\n",
       " 'benefits, \"ground/well water\" produced from a well that tapes into an aquifer, \"sparkling water\" from a spring or well that is naturally carbonated,',\n",
       " 'and \"purified water\" produced by distillation, deionization, reverse osmosis, or other purification processes.  This Essentia Drinking Water is',\n",
       " '\"purified water\"; this bottle contains municipal water (i.e. tap water that comes from your faucet) that is purified using reverse osmosis and',\n",
       " 'ultraviolet light for disinfection.<br /><br />The label on this Essentia water bottle is filled with marketing hype and technical terms designed to',\n",
       " 'make it sound exotic:<br />* \"Infused with Electrolytes For A Difference You Can Taste\"<br />* \"Silky Smooth Taste\"<br />* \"Hydrates Better\"<br />*',\n",
       " '\"Electrolytes Infused\"<br />* \"Best Available pH at 9.5\"<br />* \"Doctor recommended to protect, improve, and enhance the quality of your health.\"<br',\n",
       " '/>* \"Our Proprietary Technology: Water purified by reverse osmosis; infused with electrolytes for taste; alkalinized and restructured using Ionic',\n",
       " 'Separation Technology.\"<br />* \"Ingredients: purified water, sodium bicarbonate, dipotassium phosphate, magnesium sulfate, calcium chloride.\"<br /><br',\n",
       " '/>There are two ways to evaluate this water product.  One way to review this water is based on how it tastes, how safe are its added ingredients, and',\n",
       " \"its cost.  Since Essentia includes a variety of health claims and marketing statements on the water bottle's label, on the Amazon product listing, and\",\n",
       " \"on the company's Web site, the veracity of this statements must also be scrutinized since the marketing hype of most other brands of bottled water is\",\n",
       " 'just limited to the \"freshness\" or \"purity\" of their taste without making other health-related claims.<br /><br />First, on the basis on its cost,',\n",
       " 'with all of its marketing hype and hoopla, at least this water is not priced far more expensive than most other brands of bottled water.  But there',\n",
       " 'are various other bottled water products on Amazon that cost less on a per-liter basis.  And if you think that this slightly pricey water can be',\n",
       " 'justified based on its health \"merits\", keep reading...<br /><br />As for taste, that can be a highly personal preference, but I like my water to',\n",
       " 'simply taste \"wet\".  :-)  If I want some kind of flavored drink - tea, wine, beer, fruit juice, etc. - I will drink that instead.  But nothing',\n",
       " 'hydrates and quenches as easily as pure and simple water, with no additives or flavorings added to it.  This particular Essentia water does have a',\n",
       " 'smooth texture to it.  Most other bottled waters taste more crisp than this Essentia water.  Again, you may either like the smooth texture of this',\n",
       " 'water or you may think that its texture is rather flat and bland.  Unlike drinking \"distilled water\", or bottled water that was purified using',\n",
       " 'distillation with no additives, this water has a very slight subtle aftertaste that might be considered as either \"chalky\" or \"metallic\".  Those are',\n",
       " 'my highly subjective adjectives that I associate with this water.  I can only surmise that this is due to the small amounts of additives that were',\n",
       " 'used in this water.  This aftertaste is not too objectionable, but if I just want to hydrate myself drinking \"water\", I really prefer my water to be',\n",
       " \"without any identifiable taste, texture, or odor.<br /><br />Next, since this is not just a bottle of pure H2O water, let's consider what was added to\",\n",
       " 'this water: sodium bicarbonate, dipotassium phosphate, magnesium sulfate, and calcium chloride.  Sodium bicarbonate is the same thing as baking soda.',\n",
       " 'This water was made to have a slightly alkaline pH of 9.5 by adding sodium bicarbonate.  People sometimes also adjust and raise the pH of their',\n",
       " 'swimming pool water by adding sodium bicarbonate.  Dipotassium phosphate is sometimes added to various food products as a buffering agent or',\n",
       " 'emulsifier.  In this water, it serves as one of the \"electrolytes\" that is added.  The term \"electrolytes\" is just a subset of minerals that are found',\n",
       " 'in both the Earth and the food that we eat.  Also serving as an electrolyte is the addition of magnesium sulfate.  Magnesium sulfate is sold in drug',\n",
       " 'stores as \"Epsom Salt\", and you can either soak your feet or body in an Epsom Salt bath to soothe sore muscles, or when ingested in larger quantities,',\n",
       " 'magnesium sulfate also can serve as a laxative.  Calcium chloride serves as another electrolyte in this water.  Calcium chloride is sometimes used as',\n",
       " 'a food additive.  The trace amounts of calcium, magnesium, and phosphorus in this water do not qualify as a measurable part of your daily nutritional',\n",
       " 'intake of these minerals, regardless of how much of this water you drink each day.<br /><br />Essentia is definitely not the first bottled water',\n",
       " 'manufacturer to add electrolytes to either bottled water or drinks.  During the 1960s, Gatorade was possibly the first large-scale commercial drink',\n",
       " 'that was produced with the goal of adding electrolytes of sodium, sugar, potassium, and phosphate to hydrate and replenish athletes who lost fluids',\n",
       " 'during physical exertion in hot weather.  On Essentia\\'s Web site, they have an FAQ question/answer of: \"Why should I drink Essentia if I get my',\n",
       " \"electrolytes through sports drinks?  Essentia provides a blend of dissolved minerals that emulate the ratio of the body's own mixture and\",\n",
       " 'concentration - providing the correct proportion of electrolytes without all the sugars and other additives you typically find in sports and energy',\n",
       " 'drinks.\"  There are several problems with that statement.  First, if you are actively exercising and sweating, your body can actually use those extra',\n",
       " 'calories, and if you are just sitting in front of the computer or television, guzzling Gatorade just adds useless calories and electrolytes.  Second,',\n",
       " 'if you are drinking Essentia at home, this product\\'s claim that it provides \"the correct proportion of electrolytes\" implies a one-size-fits-all',\n",
       " 'balance of electrolytes, which is simply not true as we all have different bodies, diets, and lifestyles.<br /><br />None of what Essentia refers to',\n",
       " 'as \"Our Proprietary Technology\" is really that \"proprietary\" or exotic.  The reverse osmosis purification of municipal tap water is commonly used to',\n",
       " 'produce bottled water, and the addition of various electrolytes or minerals to water has been practiced by other bottled water manufacturers for many',\n",
       " 'decades now.  Some people think that drinking plain distilled water tastes boring and, mentally at least, they like the idea that drinking water that',\n",
       " 'is naturally infused with minerals from a spring or well/aquifer adds an extra measure of health benefits.  The addition of trace minerals do add',\n",
       " 'noticeable flavor that mimics natural spring water.  Also, slightly flavoring the water with minerals masks the residual odors that can be left by the',\n",
       " 'plastic water bottle; the plastic odor is still there, but you notice it less.  The same principle applies to using a room deodorizer to mask the',\n",
       " 'existing odors in a house; that old cat urine smell is still present inside the house, but you notice it less and therefore the house smells fresher.',\n",
       " 'The most common electrolytes/minerals in spring water are calcium, magnesium, potassium, sodium, sulfate, and chloride.  The Coca-Cola company markets',\n",
       " 'a \"Dasani\" bottled water that, like this Essentia, is municipal tap water purified via reverse osmosis.  Dasani has magnesium sulfate and potassium',\n",
       " 'chloride added to it.  Perhaps the Dasani taste testing panels decided that their water tastes better without the addition of calcium?  But for',\n",
       " 'whatever reasons, this Essentia water has a slight residual \"chalky\" or \"metallic\" aftertaste, as if it had a tannic undertone like the aftertaste',\n",
       " 'after drinking a dry red wine, that I do not really care for.  I do not want my drinking water to leave a subtle aftertaste in my mouth.<br /><br',\n",
       " '/>Essentia also competes directly with \"Glaceau Smart Water\", which takes an approach similar to Essentia\\'s water.  Glaceau Smart Water is municipal',\n",
       " 'water purified via distillation, and then infused with the similar ingredients of calcium chloride, magnesium chloride, and potassium bicarbonate.<br',\n",
       " '/><br />Not to be outdone, another of Essentia\\'s alkaline/electrolyte water competitors, named \"NEO Water\" (to ride on the futuristic coattails of',\n",
       " '\"The Matrix\" fame??), pumps out even more junk science drivel filled with fear-mongering misleading statements, calling itself \"Alkaline, Electrolyte,',\n",
       " 'Antioxidant Super Hydrator ... ultra purified healthy and refreshing water formulated through proprietary technology to balance, revitalize and propel',\n",
       " 'you unlike any traditional water\", and \"NEO\\'s unique antioxidants neutralize free radicals the body releases when under exertion\".  But when you',\n",
       " \"really dig further into NEO Water's claims, there are *NO* antioxidants in NEO Water... just potassium bicarbonate, calcium chloride, magnesium\",\n",
       " 'chloride, which is similar to the mundane chemicals added to Essentia and Dasani water.  NEO Water\\'s marketing nonsense says that its \"alkalinity',\n",
       " 'allows its molecules to carry more oxygen than normal with an extra attached electron (hydroxyl ions). As a result, these molecules are able to seek',\n",
       " 'and neutralize free radicals in your body and prevent free radical damage to your cells. These natural antioxidant benefits leave your body rich in',\n",
       " 'oxygen and energy.\"  Again, like Essentia, NEO Water hopes to blind and persuade the consumer by overwhelming you with exotic totally false techno-',\n",
       " 'babble; it ascribes its antioxidant benefits entirely to its 9.5 pH alkalinity.  So if you really believe in this nonsense, you could, in theory,',\n",
       " \"obtain far more amazing antioxidant protection simply by dissolving an antacid tablet into your tap water once a day.  As with Essentia's water, NEO\",\n",
       " 'Water\\'s \"ultra purified\" water is simply municipal tap water purified using the common method of reverse osmosis.<br /><br />This Essentia Drinking',\n",
       " 'Water is not the first product to tout the benefits of \"alkaline water\".  There have been previous highly-hyped products based on ionized water,',\n",
       " 'alkaline water, and combination alkaline-ionized water.  There have even been so-called \"liquid oxygen\" drops that supposedly contained \"O4\" molecules',\n",
       " '(instead of the \"O2\" oxygen that is in the air) dissolved in a liquid, and by ingesting 10 drops each day, you feel more energized, but this quackery',\n",
       " 'completely ignores the fact that oxygen is best utilized in the lungs, and not in the stomach.  Just as the \"liquid oxygen\" drops are a distorted',\n",
       " 'version of twisted junk science based on the concept of oxygen bars (at least in oxygen bars, you do breathe in the oxygen instead of putting drops of',\n",
       " 'useless oxygen in your stomach), this \"alkaline water\" concept is a distortion of the \"alkaline diet\" alternative medicine belief that the foods we',\n",
       " 'eat can affect the acidity of urine and blood, which can then affect our well-being, susceptibility to disease, and energy level.  If you are an avid',\n",
       " 'vegan/vegetarian practitioner of an alkaline diet, then this 9.5-pH alkaline water can keep your diet on its alkaline-based theme.  But if you',\n",
       " 'regularly eat meats, poultry, seafood, dairy products, eggs, grains, processed sugar foods, and colas/sodas, all of which significantly boost the',\n",
       " 'acidic levels of your food consumption, then drinking a slightly alkaline water makes absolutely no difference to your health.<br /><br />Your stomach',\n",
       " 'has a healthily acidic pH that ranges between 1.45 to 3.5; your stomach must be very acidic to aid in digestion.  However, blood must always be',\n",
       " \"slightly alkaline, with a pH of 7.35 to 7.45.  If the blood's pH drops below 6.8 (more acidic) or rises above 7.8 (more alkaline), death may occur.\",\n",
       " 'But your blood automatically stays within its healthy pH range regardless of what you eat or drink because your blood utilizes several buffering',\n",
       " 'systems.  The most important buffer for maintaining acidity/alkalinity balance in the blood is called the carbonic-acid-bicarbonate buffer.  To form',\n",
       " 'the bicarbonate in this buffering system, your body uses carbon dioxide... guess what, carbon dioxide is in (over)abundance in the air that you',\n",
       " 'breathe and you do not need sodium bicarbonate baking soda added to your drinking water to maintain a healthy pH in your body.  In fact, consuming too',\n",
       " 'much supplemental sodium bicarbonate can actually lead to constipation, convulsions, diarrhea, frequent urination, and vomiting.  There is only a tiny',\n",
       " 'amount of sodium bicarbonate in each bottle of Essentia water, so you do not have to worry about overdose.  But my point is that all this hoopla and',\n",
       " 'hype about this water being of the \"Best Available pH at 9.5\" is purified nonsense.  Some other fear-mongering alkaline water sales gimmicks claim',\n",
       " 'that, to quote another Web site, \"Excess acidity weakens all our systems and forces the body to take minerals from vital organs and bones to',\n",
       " 'buffer/neutralize the acid and safely remove it from the body.\"  But this is totally false fear-based junk science contrived to mislead you into',\n",
       " \"thinking that your body will rob its vital organs and bones of minerals to neutralize excess acidity.  But our body's carbonic-acid-bicarbonate buffer\",\n",
       " 'simply combines carbon dioxide (CO2) in the air with water to make the blood plasma more acidic if it needs to, and it can prevent excess plasma',\n",
       " 'acidity and raise its pH to be more alkaline by having the lungs convert the bicarbonate back into CO2 which you then breathe out.  A similar',\n",
       " 'phosphate buffering system also helps to maintain the pH of cellular fluids, using phosphate instead of bicarbonate.  Phosphorus is present in nearly',\n",
       " 'all foods, and regardless of whether you like to eat lots of meats or lots of vegetables, you can get plenty of sufficient phosphorus in your diet',\n",
       " 'without needing to add it to your drinking water!<br /><br />Drinking too many acidic drinks such as sodas and colas can have a detrimental effect of',\n",
       " 'eroding your tooth enamel, but guzzling all those colas have absolutely no effect on the pH of your cells and bodily fluids.  And regardless of how',\n",
       " 'much alkalinity you consume and put in your stomach, your body is going to make sure that your stomach stays within a healthy acidic pH range and your',\n",
       " 'body will use its pH buffering systems to keep your blood pH between 7.35 and 7.45 regardless of how much acidic or alkaline food and drink you',\n",
       " 'consume. If you are familiar with logarithms, also realize that the pH scale is logarithmic (pH is not a linear scale) and drinking 9.5 pH water',\n",
       " 'really has no effect on your various bodily fluids compared with drinking tap water or any other bottled water. And if you really could somehow',\n",
       " \"artifically adjust your stomach, blood, and bodily fluids entirely to a 9.5 pH, you would be immediately wheeled into a hospital's emergency room\",\n",
       " 'because your body and its stomach cannot handle that kind of alkalinity.<br /><br />If you suffer from frequent heartburn or acid reflux disease',\n",
       " '(gastroesophageal reflux disease), drinking this 9.5 pH water will NOT help the least bit.  Your stomach acids need to constantly stay very acidic to',\n",
       " 'maintain proper digestive functions, and the slight alkalinity of this water has no effect on the stomach acid that is entering into the esophagus of',\n",
       " 'people with GERD.<br /><br />Trying to market bottled water based on its \"silky smooth taste\" and \"hydrates better\" claims, its over-hyped \"9.5 pH\"',\n",
       " 'attribute, and all its overexaggerated health claims constitute marketing trickery to fool consumers by utilizing the \"if you believe that it can',\n",
       " 'really work, it does indeed work\" placebo effect.  The placebo effect is a very powerful phenomenon that can frequently affect everything from',\n",
       " 'clinical trials of pharmacological substances to faith healing.  Basically, if you have a hopeful mindset of expectancy and conditioning that makes',\n",
       " 'you think that something will work, then that perception can become 100% of your subjectively observed reality and outcome of the treatment.  For',\n",
       " 'examples of other placebo effects: If I told you that you can get stronger bones by breathing milk through your nose instead of drinking it through',\n",
       " 'your mouth, or if I told you that you could be revitalized by just holding broccoli in your hands for two minutes every day instead of eating it, if',\n",
       " 'you really believe or hope that to be true, then after breathing the milk into your nose or holding the broccoli in your hands, you may think to',\n",
       " 'yourself, \"Gee, I feel better, stronger, and more energetic after having done that!\"  Likewise, if you really HOPE to feel more hydrated after',\n",
       " 'drinking this Essentia water, you may actually feel more refreshed simply because you BELIEVE that this water is hydrating you better than drinking',\n",
       " \"other sources of water, when in fact the tap water from your faucet could have hydrated you just as refreshingly.<br /><br />The Amazon 'Product\",\n",
       " 'Description\\' for this Essentia water falsely states even more overexaggerated health claims: \"Essentia Water provides unmatched hydration, health',\n",
       " 'benefits and smooth taste.  Its superior hydrating qualities come from a special electrolyte formula and optimal pH level of 9.5, which gives your',\n",
       " 'body more of what it needs to thrive.  Drinking Essentia Water boosts the antioxidant properties of your immune system and helps bring your body back',\n",
       " 'into balance.  It also helps maintain normal blood pressure, restful sleep, heart health, muscle strength and more.\"  Again... these claims are way',\n",
       " \"wayyyy overexaggerated!  Compared to your overall health, fitness level, and daily food diet, the trace minerals found in this water and this water's\",\n",
       " 'slight alkalinity really make no difference in boosting the \"antioxidant properties of your immune system\", nor does it \"help maintain normal blood',\n",
       " 'pressure, restful sleep, heart health, muscle strength and more\".  With this litany of false health claims, I am surprised that they also did not pile',\n",
       " 'on claims that this water \"increases libido, cures erectile dysfunction, grows hair on balding men, makes women sexy, and fixes the national debt\"',\n",
       " \"too.<br /><br />Fuzzy Wuzzy's Conclusion:<br /><br />I must admit that I personally do not regularly purchase bottled water for home use, even though\",\n",
       " 'I will sometimes buy it while I am away from home, both because I think that filtering my tap water through a Brita filter produces water that is just',\n",
       " 'as tasty and healthy as bottled water and, just as important, I think that too much plastic (and petroleum) is used in the production of bottled water',\n",
       " 'and most plastic bottles end up in our overflowing landfills.  Roughly 1.5 million tons of plastic is used to make water bottles.  And this does not',\n",
       " 'include the energy used to make the plastic and the oil used for transporting all the bottled water.  It takes about two liters of water used during',\n",
       " 'the production process just to make one liter of bottled water.  So behind each 1-liter bottle of water is another two liters of water that was',\n",
       " 'expended during its production.  Essentia states that their plastic bottles are \"safe and recyclable\", but we can all reduce our carbon footprint if',\n",
       " 'we drink less bottled water.  In many developing countries, tap water is either unavailable or unsafe, making bottled water a better option if',\n",
       " 'residents cannot boil their tap water before consumption.  But here in the U.S., some bottled water manufacturers, including this Essentia bottled',\n",
       " 'water, use fear-based advertising claims that their water is healthier than tap water, which it really is not.  The concerns for the taste of tap',\n",
       " 'water are valid, however, especially with tap water that has residual smell or taste of chlorination.  But residual smells and taste issues can be',\n",
       " 'easily and economically remedied by using various activated charcoal/carbon filters at home to treat your tap water.  Anyway, the tap water that comes',\n",
       " 'out of my faucet at home is also slightly alkaline like this Essentia water, and many municipal water supplies are also slightly alkaline, so there is',\n",
       " 'no need to purchase this bottled water that has baking soda added to it.<br /><br />This is not a bad bottled water.  It is priced competitively with',\n",
       " \"other bottled waters.  But it has an odd aftertaste that I do not like.  And the techno-jargon claims that revolve around this water's selling points\",\n",
       " '- 9.5 pH, \"ionically separated water\", \"Infused With Electrolytes\", and even falsely stating that this water boosts your immune system - amount to',\n",
       " 'nothing but purified snake oil hogwash.  To quote William Shakespeare, all this marketing hype about 9.5 pH and electrolytes is really \"much ado about',\n",
       " 'nothing\"!']"
      ]
     },
     "execution_count": 15,
     "metadata": {},
     "output_type": "execute_result"
    }
   ],
   "source": [
    "#Longest review\n",
    "import textwrap as tw\n",
    "tw.wrap(clean_data.loc[clean_data.Text.apply(len).idxmax(clean_data.Text.apply(len))].Text,width =150)"
   ]
  },
  {
   "cell_type": "markdown",
   "metadata": {},
   "source": [
    "- I see a lot of line breakers read in as text. We need to deal with this. Also, there appears words that use appostrophe. Such words will create a problem later on. We need to take care of such words early."
   ]
  },
  {
   "cell_type": "markdown",
   "metadata": {},
   "source": [
    "#### Duplicated Values"
   ]
  },
  {
   "cell_type": "code",
   "execution_count": 45,
   "metadata": {},
   "outputs": [
    {
     "data": {
      "text/plain": [
       "281"
      ]
     },
     "execution_count": 45,
     "metadata": {},
     "output_type": "execute_result"
    }
   ],
   "source": [
    "clean_data.duplicated().sum()"
   ]
  },
  {
   "cell_type": "markdown",
   "metadata": {},
   "source": [
    "We have around 281 duplicated reviews. Since, we dont have a unique identifer in the dataset, lets use userID, time, summary and text to identify all the dupicated entries in the dataset."
   ]
  },
  {
   "cell_type": "code",
   "execution_count": 49,
   "metadata": {},
   "outputs": [
    {
     "data": {
      "text/plain": [
       "173282"
      ]
     },
     "execution_count": 49,
     "metadata": {},
     "output_type": "execute_result"
    }
   ],
   "source": [
    "clean_data[[\"UserId\",\"ProfileName\",\"Time\",\"Summary\",\"Text\"]].duplicated().sum()"
   ]
  },
  {
   "cell_type": "markdown",
   "metadata": {},
   "source": [
    "Woah! Thats quite a lot of duplicated reviews. Almost 30% of our reviews are duplicated. We need to remove these reviews in order to indentify the true topics in the data."
   ]
  },
  {
   "cell_type": "code",
   "execution_count": 321,
   "metadata": {},
   "outputs": [
    {
     "data": {
      "text/plain": [
       "(568454, 5)"
      ]
     },
     "execution_count": 321,
     "metadata": {},
     "output_type": "execute_result"
    }
   ],
   "source": [
    "clean_data = clean_data[[\"UserId\",\"ProfileName\",\"Time\",\"Summary\",\"Text\"]]\n",
    "clean_data.shape"
   ]
  },
  {
   "cell_type": "code",
   "execution_count": 322,
   "metadata": {},
   "outputs": [],
   "source": [
    "clean_data.drop_duplicates(inplace = True)"
   ]
  },
  {
   "cell_type": "code",
   "execution_count": 66,
   "metadata": {},
   "outputs": [
    {
     "data": {
      "text/plain": [
       "(395172, 5)"
      ]
     },
     "execution_count": 66,
     "metadata": {},
     "output_type": "execute_result"
    }
   ],
   "source": [
    "clean_data.shape"
   ]
  },
  {
   "cell_type": "code",
   "execution_count": 69,
   "metadata": {},
   "outputs": [
    {
     "data": {
      "text/html": [
       "<div>\n",
       "<style scoped>\n",
       "    .dataframe tbody tr th:only-of-type {\n",
       "        vertical-align: middle;\n",
       "    }\n",
       "\n",
       "    .dataframe tbody tr th {\n",
       "        vertical-align: top;\n",
       "    }\n",
       "\n",
       "    .dataframe thead th {\n",
       "        text-align: right;\n",
       "    }\n",
       "</style>\n",
       "<table border=\"1\" class=\"dataframe\">\n",
       "  <thead>\n",
       "    <tr style=\"text-align: right;\">\n",
       "      <th></th>\n",
       "      <th>UserId</th>\n",
       "      <th>ProfileName</th>\n",
       "      <th>Time</th>\n",
       "      <th>Summary</th>\n",
       "      <th>Text</th>\n",
       "    </tr>\n",
       "  </thead>\n",
       "  <tbody>\n",
       "    <tr>\n",
       "      <th>0</th>\n",
       "      <td>A3SGXH7AUHU8GW</td>\n",
       "      <td>delmartian</td>\n",
       "      <td>1303862400</td>\n",
       "      <td>Good Quality Dog Food</td>\n",
       "      <td>I have bought several of the Vitality canned d...</td>\n",
       "    </tr>\n",
       "    <tr>\n",
       "      <th>1</th>\n",
       "      <td>A1D87F6ZCVE5NK</td>\n",
       "      <td>dll pa</td>\n",
       "      <td>1346976000</td>\n",
       "      <td>Not as Advertised</td>\n",
       "      <td>Product arrived labeled as Jumbo Salted Peanut...</td>\n",
       "    </tr>\n",
       "    <tr>\n",
       "      <th>2</th>\n",
       "      <td>ABXLMWJIXXAIN</td>\n",
       "      <td>Natalia Corres \"Natalia Corres\"</td>\n",
       "      <td>1219017600</td>\n",
       "      <td>\"Delight\" says it all</td>\n",
       "      <td>This is a confection that has been around a fe...</td>\n",
       "    </tr>\n",
       "    <tr>\n",
       "      <th>3</th>\n",
       "      <td>A395BORC6FGVXV</td>\n",
       "      <td>Karl</td>\n",
       "      <td>1307923200</td>\n",
       "      <td>Cough Medicine</td>\n",
       "      <td>If you are looking for the secret ingredient i...</td>\n",
       "    </tr>\n",
       "    <tr>\n",
       "      <th>4</th>\n",
       "      <td>A1UQRSCLF8GW1T</td>\n",
       "      <td>Michael D. Bigham \"M. Wassir\"</td>\n",
       "      <td>1350777600</td>\n",
       "      <td>Great taffy</td>\n",
       "      <td>Great taffy at a great price.  There was a wid...</td>\n",
       "    </tr>\n",
       "  </tbody>\n",
       "</table>\n",
       "</div>"
      ],
      "text/plain": [
       "           UserId                      ProfileName        Time  \\\n",
       "0  A3SGXH7AUHU8GW                       delmartian  1303862400   \n",
       "1  A1D87F6ZCVE5NK                           dll pa  1346976000   \n",
       "2   ABXLMWJIXXAIN  Natalia Corres \"Natalia Corres\"  1219017600   \n",
       "3  A395BORC6FGVXV                             Karl  1307923200   \n",
       "4  A1UQRSCLF8GW1T    Michael D. Bigham \"M. Wassir\"  1350777600   \n",
       "\n",
       "                 Summary                                               Text  \n",
       "0  Good Quality Dog Food  I have bought several of the Vitality canned d...  \n",
       "1      Not as Advertised  Product arrived labeled as Jumbo Salted Peanut...  \n",
       "2  \"Delight\" says it all  This is a confection that has been around a fe...  \n",
       "3         Cough Medicine  If you are looking for the secret ingredient i...  \n",
       "4            Great taffy  Great taffy at a great price.  There was a wid...  "
      ]
     },
     "execution_count": 69,
     "metadata": {},
     "output_type": "execute_result"
    }
   ],
   "source": [
    "#sanity check\n",
    "clean_data.head()"
   ]
  },
  {
   "cell_type": "markdown",
   "metadata": {},
   "source": [
    "## Cleaning text data\n",
    "\n",
    "- We noticed a lot of html tags and grammer contractions in the text - removing them"
   ]
  },
  {
   "cell_type": "code",
   "execution_count": 290,
   "metadata": {},
   "outputs": [],
   "source": [
    "#correcting grammar contractions\n",
    "grammer = {\"can't\": \"can not\",\"won't\": \" will not\",\"n't\":\" not\", \"'s\":\" is\",\"'ve\":\" have\",\"'re\":\" are\",\"'ll\":\" will\",\"'m\":\" am\",\"'d\":\" had\"}"
   ]
  },
  {
   "cell_type": "code",
   "execution_count": 285,
   "metadata": {},
   "outputs": [],
   "source": [
    "#removing html tags\n",
    "TAG_RE = re.compile(r'<[^>]+>')\n",
    "def remove_tags(text):\n",
    "    return TAG_RE.sub('', text)"
   ]
  },
  {
   "cell_type": "code",
   "execution_count": 291,
   "metadata": {},
   "outputs": [],
   "source": [
    "#function to remove html tags and replace grammer contractions from text\n",
    "def clean_review(text):\n",
    "    text = remove_tags(text)\n",
    "    for key in grammer.keys():\n",
    "        text = text.replace(key,grammer[key])\n",
    "    return text"
   ]
  },
  {
   "cell_type": "code",
   "execution_count": 344,
   "metadata": {},
   "outputs": [
    {
     "name": "stdout",
     "output_type": "stream",
     "text": [
      "Total time taken to clean 00:00:03.98\n"
     ]
    }
   ],
   "source": [
    "start = time.time()\n",
    "clean_data.Text = clean_data.Text.apply(clean_review)\n",
    "clean_data.Summary = clean_data.Summary.apply(clean_review)\n",
    "end = time.time()\n",
    "#time taken to remove non-frequent words\n",
    "hours, rem = divmod(end-start, 3600)\n",
    "minutes, seconds = divmod(rem, 60)\n",
    "print(\"Total time taken to clean\",\"{:0>2}:{:0>2}:{:05.2f}\".format(int(hours),int(minutes),seconds))"
   ]
  },
  {
   "cell_type": "code",
   "execution_count": 345,
   "metadata": {},
   "outputs": [
    {
     "data": {
      "text/html": [
       "<div>\n",
       "<style scoped>\n",
       "    .dataframe tbody tr th:only-of-type {\n",
       "        vertical-align: middle;\n",
       "    }\n",
       "\n",
       "    .dataframe tbody tr th {\n",
       "        vertical-align: top;\n",
       "    }\n",
       "\n",
       "    .dataframe thead th {\n",
       "        text-align: right;\n",
       "    }\n",
       "</style>\n",
       "<table border=\"1\" class=\"dataframe\">\n",
       "  <thead>\n",
       "    <tr style=\"text-align: right;\">\n",
       "      <th></th>\n",
       "      <th>UserId</th>\n",
       "      <th>ProfileName</th>\n",
       "      <th>Time</th>\n",
       "      <th>Summary</th>\n",
       "      <th>Text</th>\n",
       "    </tr>\n",
       "  </thead>\n",
       "  <tbody>\n",
       "    <tr>\n",
       "      <th>0</th>\n",
       "      <td>A3SGXH7AUHU8GW</td>\n",
       "      <td>delmartian</td>\n",
       "      <td>1303862400</td>\n",
       "      <td>Good Quality Dog Food</td>\n",
       "      <td>I have bought several of the Vitality canned d...</td>\n",
       "    </tr>\n",
       "    <tr>\n",
       "      <th>1</th>\n",
       "      <td>A1D87F6ZCVE5NK</td>\n",
       "      <td>dll pa</td>\n",
       "      <td>1346976000</td>\n",
       "      <td>Not as Advertised</td>\n",
       "      <td>Product arrived labeled as Jumbo Salted Peanut...</td>\n",
       "    </tr>\n",
       "    <tr>\n",
       "      <th>2</th>\n",
       "      <td>ABXLMWJIXXAIN</td>\n",
       "      <td>Natalia Corres \"Natalia Corres\"</td>\n",
       "      <td>1219017600</td>\n",
       "      <td>\"Delight\" says it all</td>\n",
       "      <td>This is a confection that has been around a fe...</td>\n",
       "    </tr>\n",
       "    <tr>\n",
       "      <th>3</th>\n",
       "      <td>A395BORC6FGVXV</td>\n",
       "      <td>Karl</td>\n",
       "      <td>1307923200</td>\n",
       "      <td>Cough Medicine</td>\n",
       "      <td>If you are looking for the secret ingredient i...</td>\n",
       "    </tr>\n",
       "    <tr>\n",
       "      <th>4</th>\n",
       "      <td>A1UQRSCLF8GW1T</td>\n",
       "      <td>Michael D. Bigham \"M. Wassir\"</td>\n",
       "      <td>1350777600</td>\n",
       "      <td>Great taffy</td>\n",
       "      <td>Great taffy at a great price.  There was a wid...</td>\n",
       "    </tr>\n",
       "  </tbody>\n",
       "</table>\n",
       "</div>"
      ],
      "text/plain": [
       "           UserId                      ProfileName        Time  \\\n",
       "0  A3SGXH7AUHU8GW                       delmartian  1303862400   \n",
       "1  A1D87F6ZCVE5NK                           dll pa  1346976000   \n",
       "2   ABXLMWJIXXAIN  Natalia Corres \"Natalia Corres\"  1219017600   \n",
       "3  A395BORC6FGVXV                             Karl  1307923200   \n",
       "4  A1UQRSCLF8GW1T    Michael D. Bigham \"M. Wassir\"  1350777600   \n",
       "\n",
       "                 Summary                                               Text  \n",
       "0  Good Quality Dog Food  I have bought several of the Vitality canned d...  \n",
       "1      Not as Advertised  Product arrived labeled as Jumbo Salted Peanut...  \n",
       "2  \"Delight\" says it all  This is a confection that has been around a fe...  \n",
       "3         Cough Medicine  If you are looking for the secret ingredient i...  \n",
       "4            Great taffy  Great taffy at a great price.  There was a wid...  "
      ]
     },
     "execution_count": 345,
     "metadata": {},
     "output_type": "execute_result"
    }
   ],
   "source": [
    "#sanity check\n",
    "clean_data.head()"
   ]
  },
  {
   "cell_type": "markdown",
   "metadata": {},
   "source": [
    "## Unique Words"
   ]
  },
  {
   "cell_type": "code",
   "execution_count": 347,
   "metadata": {},
   "outputs": [
    {
     "data": {
      "text/plain": [
       "355205"
      ]
     },
     "execution_count": 347,
     "metadata": {},
     "output_type": "execute_result"
    }
   ],
   "source": [
    "#How many unique words are there?\n",
    "import itertools\n",
    "words = list(itertools.chain(*list(clean_data.Text.apply(word_tokenize))))\n",
    "len(set(words))"
   ]
  },
  {
   "cell_type": "markdown",
   "metadata": {},
   "source": [
    "Right now, we have 355,205 unique tokens. But this also includes punctuations and other stopwords."
   ]
  },
  {
   "cell_type": "code",
   "execution_count": 348,
   "metadata": {},
   "outputs": [
    {
     "data": {
      "image/png": "[encoded data removed]",
      "text/plain": [
       "<Figure size 432x288 with 1 Axes>"
      ]
     },
     "metadata": {
      "needs_background": "light"
     },
     "output_type": "display_data"
    }
   ],
   "source": [
    "import operator\n",
    "sorted_words = {k:v for k,v in sorted(Counter(words).items(),key = operator.itemgetter(1),reverse = True)}\n",
    "plt.bar(list(itertools.islice(sorted_words.keys(),10)),list(itertools.islice(sorted_words.values(),10)))\n",
    "plt.show()"
   ]
  },
  {
   "cell_type": "markdown",
   "metadata": {},
   "source": [
    "As expected, the most frequent words are punctuations and stop-words. Lets further clean our reviews."
   ]
  },
  {
   "cell_type": "markdown",
   "metadata": {},
   "source": [
    "## Data Cleaning\n",
    "\n",
    "- There are few cleaning steps that we will perform before moving forward on our reviews:\n",
    "  1. Lower-case the text\n",
    "  2. Remove numbers\n",
    "  3. Remove extra white-spaces(if any)\n",
    "  4. Remove Punctuation\n",
    "  5. Tokenize reviews\n",
    "  6. Remove Stop-words\n",
    "  7. Lemmatize all words (I prefer lemmatizing instead of stemming - in my final topics, I need coherent words, and not just random words)\n",
    "  \n",
    "  \n",
    "* For stop-words, we will be using an iterative list, which we will begin with an extra long list of stop-words from rank.nl (around 600 words), and then keep on adding domain specific terms as and when we counter through building initial topic models.\n",
    "* We will also create and consider bi-grams and tri-grams in our model to get the best possible set of topics."
   ]
  },
  {
   "cell_type": "code",
   "execution_count": 349,
   "metadata": {},
   "outputs": [],
   "source": [
    "#loading spacy -en\n",
    "nlp = spacy.load(r'C:\\Users\\pares\\AppData\\Local\\Continuum\\anaconda3\\Lib\\site-packages\\en_core_web_sm\\en_core_web_sm-2.1.0', disable=['parser', 'ner'])\n",
    "\n",
    "#function to clean the reviews\n",
    "def clean_text(text):\n",
    "    text = text.lower() #lower-casing\n",
    "    text = [i for i in word_tokenize(text) if i not in stop_words] #remvoving stop-words\n",
    "    doc = nlp(' '.join(text))\n",
    "    text = [token.lemma_ for token in doc] #lemmatizing the reviews\n",
    "    text = ' '.join(text)    \n",
    "    text = re.sub(r'\\d+','',text) #removing numbers\n",
    "    text = text.translate(str.maketrans('','',string.punctuation)) #removing punctuation\n",
    "    text = text.strip() #removing white-spaces\n",
    "    return text"
   ]
  },
  {
   "cell_type": "code",
   "execution_count": 376,
   "metadata": {},
   "outputs": [],
   "source": [
    "#Initial list of stop-words (from rank.nl)\n",
    "stop_words = [\"a\",\"able\",\"about\",\"above\",\"abst\",\"accordance\",\"according\",\"accordingly\",\"across\",\"act\",\"actually\",\"added\",\"adj\",\"affected\",\"affecting\",\"affects\",\"after\",\"afterwards\",\"again\",\"against\",\"ah\",\"all\",\"almost\",\"alone\",\"along\",\"already\",\"also\",\"although\",\"always\",\"am\",\"among\",\"amongst\",\"an\",\"and\",\"announce\",\"another\",\"any\",\"anybody\",\"anyhow\",\"anymore\",\"anyone\",\"anything\",\"anyway\",\"anyways\",\"anywhere\",\"apparently\",\"approximately\",\"are\",\"aren\",\"arent\",\"arise\",\"around\",\"as\",\"aside\",\"ask\",\"asking\",\"at\",\"auth\",\"available\",\"away\",\"awfully\",\"b\",\"back\",\"be\",\"became\",\"because\",\"become\",\"becomes\",\"becoming\",\"been\",\"before\",\"beforehand\",\"begin\",\"beginning\",\"beginnings\",\"begins\",\"behind\",\"being\",\"believe\",\"below\",\"beside\",\"besides\",\"between\",\"beyond\",\"biol\",\"both\",\"brief\",\"briefly\",\"but\",\"by\",\"c\",\"ca\",\"came\",\"can\",\"cannot\",\"cause\",\"causes\",\"certain\",\"certainly\",\"co\",\"com\",\"come\",\"comes\",\"contain\",\"containing\",\"contains\",\"could\",\"couldnt\",\"d\",\"date\",\"did\",\"different\",\"do\",\"does\",\"doing\",\"done\",\"down\",\"downwards\",\"due\",\"during\",\"e\",\"each\",\"ed\",\"edu\",\"effect\",\"eg\",\"eight\",\"eighty\",\"either\",\"else\",\"elsewhere\",\"end\",\"ending\",\"enough\",\"especially\",\"et\",\"etc\",\"even\",\"ever\",\"every\",\"everybody\",\"everyone\",\"everything\",\"everywhere\",\"ex\",\"except\",\"f\",\"far\",\"few\",\"ff\",\"fifth\",\"first\",\"five\",\"fix\",\"followed\",\"following\",\"follows\",\"for\",\"former\",\"formerly\",\"forth\",\"found\",\"four\",\"from\",\"further\",\"furthermore\",\"g\",\"gave\",\"get\",\"gets\",\"getting\",\"give\",\"given\",\"gives\",\"giving\",\"go\",\"goes\",\"gone\",\"got\",\"gotten\",\"h\",\"had\",\"happens\",\"hardly\",\"has\",\"have\",\"having\",\"he\",\"hed\",\"hence\",\"her\",\"here\",\"hereafter\",\"hereby\",\"herein\",\"heres\",\"hereupon\",\"hers\",\"herself\",\"hes\",\"hi\",\"hid\",\"him\",\"himself\",\"his\",\"hither\",\"home\",\"how\",\"howbeit\",\"however\",\"hundred\",\"i\",\"id\",\"ie\",\"if\",\"im\",\"immediate\",\"immediately\",\"importance\",\"important\",\"in\",\"inc\",\"indeed\",\"index\",\"information\",\"instead\",\"into\",\"invention\",\"inward\",\"is\",\"it\",\"itd\",\"its\",\"itself\",\"j\",\"just\",\"k\",\"keep\",\"keeps\",\"kept\",\"kg\",\"km\",\"know\",\"known\",\"knows\",\"l\",\"largely\",\"last\",\"lately\",\"later\",\"latter\",\"latterly\",\"least\",\"less\",\"lest\",\"let\",\"lets\",\"like\",\"liked\",\"likely\",\"line\",\"little\",\"look\",\"looking\",\"looks\",\"ltd\",\"m\",\"made\",\"mainly\",\"make\",\"makes\",\"many\",\"may\",\"maybe\",\"me\",\"mean\",\"means\",\"meantime\",\"meanwhile\",\"merely\",\"mg\",\"might\",\"million\",\"miss\",\"ml\",\"more\",\"moreover\",\"most\",\"mostly\",\"mr\",\"mrs\",\"much\",\"mug\",\"must\",\"my\",\"myself\",\"n\",\"na\",\"name\",\"namely\",\"nay\",\"nd\",\"near\",\"nearly\",\"necessarily\",\"necessary\",\"need\",\"needs\",\"neither\",\"never\",\"nevertheless\",\"new\",\"next\",\"nine\",\"ninety\",\"no\",\"nobody\",\"non\",\"none\",\"nonetheless\",\"noone\",\"nor\",\"normally\",\"nos\",\"not\",\"noted\",\"nothing\",\"now\",\"nowhere\",\"o\",\"obtain\",\"obtained\",\"obviously\",\"of\",\"off\",\"often\",\"oh\",\"ok\",\"okay\",\"old\",\"omitted\",\"on\",\"once\",\"one\",\"ones\",\"only\",\"onto\",\"or\",\"ord\",\"other\",\"others\",\"otherwise\",\"ought\",\"our\",\"ours\",\"ourselves\",\"out\",\"outside\",\"over\",\"overall\",\"owing\",\"own\",\"p\",\"page\",\"pages\",\"part\",\"particular\",\"particularly\",\"past\",\"per\",\"perhaps\",\"placed\",\"please\",\"plus\",\"poorly\",\"possible\",\"possibly\",\"potentially\",\"pp\",\"predominantly\",\"present\",\"previously\",\"primarily\",\"probably\",\"promptly\",\"proud\",\"provides\",\"put\",\"q\",\"que\",\"quickly\",\"quite\",\"qv\",\"r\",\"ran\",\"rather\",\"rd\",\"re\",\"readily\",\"really\",\"recent\",\"recently\",\"ref\",\"refs\",\"regarding\",\"regardless\",\"regards\",\"related\",\"relatively\",\"research\",\"respectively\",\"resulted\",\"resulting\",\"results\",\"right\",\"run\",\"s\",\"said\",\"same\",\"saw\",\"say\",\"saying\",\"says\",\"sec\",\"section\",\"see\",\"seeing\",\"seem\",\"seemed\",\"seeming\",\"seems\",\"seen\",\"self\",\"selves\",\"sent\",\"seven\",\"several\",\"shall\",\"she\",\"shed\",\"shes\",\"should\",\"show\",\"showed\",\"shown\",\"showns\",\"shows\",\"significant\",\"significantly\",\n",
    "               \"similar\",\"similarly\",\"since\",\"six\",\"slightly\",\"so\",\"some\",\"somebody\",\"somehow\",\"someone\",\"somethan\",\"something\",\"sometime\",\"sometimes\",\"somewhat\",\"somewhere\",\"soon\",\"sorry\",\"specifically\",\"specified\",\"specify\",\"specifying\",\"still\",\"stop\",\"strongly\",\"sub\",\"substantially\",\"successfully\",\"such\",\"sufficiently\",\"suggest\",\"sup\",\"sure\",\"t\",\"take\",\"taken\",\"taking\",\"tell\",\"tends\",\"th\",\"than\",\"thank\",\"thanks\",\"thanx\",\"that\",\"thats\",\"the\",\"their\",\"theirs\",\"them\",\"themselves\",\"then\",\"thence\",\"there\",\"thereafter\",\"thereby\",\"thered\",\"therefore\",\"therein\",\"thereof\",\"therere\",\"theres\",\"thereto\",\"thereupon\",\"these\",\"they\",\"theyd\",\"theyre\",\"think\",\"this\",\"those\",\"thou\",\"though\",\"thoughh\",\"thousand\",\"throug\",\"through\",\"throughout\",\"thru\",\"thus\",\"til\",\"tip\",\"to\",\"together\",\"too\",\"took\",\"toward\",\"towards\",\"tried\",\"tries\",\"truly\",\"try\",\"trying\",\"ts\",\"twice\",\"two\",\"u\",\"un\",\"under\",\"unfortunately\",\"unless\",\"unlike\",\"unlikely\",\"until\",\"unto\",\"up\",\"upon\",\"ups\",\"us\",\"use\",\"used\",\"useful\",\"usefully\",\"usefulness\",\"uses\",\"using\",\"usually\",\"v\",\"value\",\"various\",\"very\",\"via\",\"viz\",\"vol\",\"vols\",\"vs\",\"w\",\"want\",\"wants\",\"was\",\"wasnt\",\"way\",\"we\",\"wed\",\"welcome\",\"went\",\"were\",\"werent\",\"we've\",\"what\",\"whatever\",\"whats\",\"when\",\"whence\",\"whenever\",\"where\",\"whereafter\",\"whereas\",\"whereby\",\"wherein\",\"wheres\",\"whereupon\",\"wherever\",\"whether\",\"which\",\"while\",\"whim\",\"whither\",\"who\",\"whod\",\"whoever\",\"whole\",\"whom\",\"whomever\",\"whos\",\"whose\",\"why\",\"widely\",\"willing\",\"wish\",\"with\",\"within\",\"without\",\"wont\",\"words\",\"world\",\"would\",\"wouldnt\",\"www\",\"x\",\"y\",\"yes\",\"yet\",\"you\",\"youd\",\"your\",\"youre\",\"yours\",\"yourself\",\"yourselves\",\"z\",\"zero\"]\n"
   ]
  },
  {
   "cell_type": "code",
   "execution_count": 356,
   "metadata": {},
   "outputs": [],
   "source": [
    "#before moving forward, I want to keep only the columns that I will be using from here on \n",
    "clean_data.drop([\"UserId\",\"ProfileName\",\"Time\"],inplace = True,axis = 1)\n",
    "clean_data.reset_index(inplace = True)\n",
    "clean_data.columns = [\"id\",\"title\",\"review\"]"
   ]
  },
  {
   "cell_type": "code",
   "execution_count": 367,
   "metadata": {},
   "outputs": [
    {
     "data": {
      "text/html": [
       "<div>\n",
       "<style scoped>\n",
       "    .dataframe tbody tr th:only-of-type {\n",
       "        vertical-align: middle;\n",
       "    }\n",
       "\n",
       "    .dataframe tbody tr th {\n",
       "        vertical-align: top;\n",
       "    }\n",
       "\n",
       "    .dataframe thead th {\n",
       "        text-align: right;\n",
       "    }\n",
       "</style>\n",
       "<table border=\"1\" class=\"dataframe\">\n",
       "  <thead>\n",
       "    <tr style=\"text-align: right;\">\n",
       "      <th></th>\n",
       "      <th>id</th>\n",
       "      <th>title</th>\n",
       "      <th>review</th>\n",
       "    </tr>\n",
       "  </thead>\n",
       "  <tbody>\n",
       "    <tr>\n",
       "      <th>0</th>\n",
       "      <td>0</td>\n",
       "      <td>Good Quality Dog Food</td>\n",
       "      <td>I have bought several of the Vitality canned d...</td>\n",
       "    </tr>\n",
       "    <tr>\n",
       "      <th>1</th>\n",
       "      <td>1</td>\n",
       "      <td>Not as Advertised</td>\n",
       "      <td>Product arrived labeled as Jumbo Salted Peanut...</td>\n",
       "    </tr>\n",
       "    <tr>\n",
       "      <th>2</th>\n",
       "      <td>2</td>\n",
       "      <td>\"Delight\" says it all</td>\n",
       "      <td>This is a confection that has been around a fe...</td>\n",
       "    </tr>\n",
       "    <tr>\n",
       "      <th>3</th>\n",
       "      <td>3</td>\n",
       "      <td>Cough Medicine</td>\n",
       "      <td>If you are looking for the secret ingredient i...</td>\n",
       "    </tr>\n",
       "    <tr>\n",
       "      <th>4</th>\n",
       "      <td>4</td>\n",
       "      <td>Great taffy</td>\n",
       "      <td>Great taffy at a great price.  There was a wid...</td>\n",
       "    </tr>\n",
       "  </tbody>\n",
       "</table>\n",
       "</div>"
      ],
      "text/plain": [
       "   id                  title  \\\n",
       "0   0  Good Quality Dog Food   \n",
       "1   1      Not as Advertised   \n",
       "2   2  \"Delight\" says it all   \n",
       "3   3         Cough Medicine   \n",
       "4   4            Great taffy   \n",
       "\n",
       "                                              review  \n",
       "0  I have bought several of the Vitality canned d...  \n",
       "1  Product arrived labeled as Jumbo Salted Peanut...  \n",
       "2  This is a confection that has been around a fe...  \n",
       "3  If you are looking for the secret ingredient i...  \n",
       "4  Great taffy at a great price.  There was a wid...  "
      ]
     },
     "execution_count": 367,
     "metadata": {},
     "output_type": "execute_result"
    }
   ],
   "source": [
    "#sanity check\n",
    "clean_data.head()"
   ]
  },
  {
   "cell_type": "code",
   "execution_count": 370,
   "metadata": {},
   "outputs": [],
   "source": [
    "#saving the cleaned reviews\n",
    "clean_data.to_pickle('clean_data_original.pkl')"
   ]
  },
  {
   "cell_type": "code",
   "execution_count": 371,
   "metadata": {},
   "outputs": [],
   "source": [
    "#function to input the cleaning function to multi-core processing\n",
    "def clean_apply(df):\n",
    "    from nltk.tokenize import word_tokenize\n",
    "    import re\n",
    "    import spacy\n",
    "    import string\n",
    "\n",
    "    stop_words = [\"a\",\"able\",\"about\",\"above\",\"abst\",\"accordance\",\"according\",\"accordingly\",\"across\",\"act\",\"actually\",\"added\",\"adj\",\"affected\",\"affecting\",\"affects\",\"after\",\"afterwards\",\"again\",\"against\",\"ah\",\"all\",\"almost\",\"alone\",\"along\",\"already\",\"also\",\"although\",\"always\",\"am\",\"among\",\"amongst\",\"an\",\"and\",\"announce\",\"another\",\"any\",\"anybody\",\"anyhow\",\"anymore\",\"anyone\",\"anything\",\"anyway\",\"anyways\",\"anywhere\",\"apparently\",\"approximately\",\"are\",\"aren\",\"arent\",\"arise\",\"around\",\"as\",\"aside\",\"ask\",\"asking\",\"at\",\"auth\",\"available\",\"away\",\"awfully\",\"b\",\"back\",\"be\",\"became\",\"because\",\"become\",\"becomes\",\"becoming\",\"been\",\"before\",\"beforehand\",\"begin\",\"beginning\",\"beginnings\",\"begins\",\"behind\",\"being\",\"believe\",\"below\",\"beside\",\"besides\",\"between\",\"beyond\",\"biol\",\"both\",\"brief\",\"briefly\",\"but\",\"by\",\"c\",\"ca\",\"came\",\"can\",\"cannot\",\"can't\",\"cause\",\"causes\",\"certain\",\"certainly\",\"co\",\"com\",\"come\",\"comes\",\"contain\",\"containing\",\"contains\",\"could\",\"couldnt\",\"d\",\"date\",\"did\",\"didn't\",\"different\",\"do\",\"does\",\"doesn't\",\"doing\",\"done\",\"don't\",\"down\",\"downwards\",\"due\",\"during\",\"e\",\"each\",\"ed\",\"edu\",\"effect\",\"eg\",\"eight\",\"eighty\",\"either\",\"else\",\"elsewhere\",\"end\",\"ending\",\"enough\",\"especially\",\"et\",\"et-al\",\"etc\",\"even\",\"ever\",\"every\",\"everybody\",\"everyone\",\"everything\",\"everywhere\",\"ex\",\"except\",\"f\",\"far\",\"few\",\"ff\",\"fifth\",\"first\",\"five\",\"fix\",\"followed\",\"following\",\"follows\",\"for\",\"former\",\"formerly\",\"forth\",\"found\",\"four\",\"from\",\"further\",\"furthermore\",\"g\",\"gave\",\"get\",\"gets\",\"getting\",\"give\",\"given\",\"gives\",\"giving\",\"go\",\"goes\",\"gone\",\"got\",\"gotten\",\"h\",\"had\",\"happens\",\"hardly\",\"has\",\"hasn't\",\"have\",\"haven't\",\"having\",\"he\",\"hed\",\"hence\",\"her\",\"here\",\"hereafter\",\"hereby\",\"herein\",\"heres\",\"hereupon\",\"hers\",\"herself\",\"hes\",\"hi\",\"hid\",\"him\",\"himself\",\"his\",\"hither\",\"home\",\"how\",\"howbeit\",\"however\",\"hundred\",\"i\",\"id\",\"ie\",\"if\",\"i'll\",\"im\",\"immediate\",\"immediately\",\"importance\",\"important\",\"in\",\"inc\",\"indeed\",\"index\",\"information\",\"instead\",\"into\",\"invention\",\"inward\",\"is\",\"isn't\",\"it\",\"itd\",\"it'll\",\"its\",\"itself\",\"i've\",\"j\",\"just\",\"k\",\"keep\",\t\"keeps\",\"kept\",\"kg\",\"km\",\"know\",\"known\",\"knows\",\"l\",\"largely\",\"last\",\"lately\",\"later\",\"latter\",\"latterly\",\"least\",\"less\",\"lest\",\"let\",\"lets\",\"like\",\"liked\",\"likely\",\"line\",\"little\",\"'ll\",\"look\",\"looking\",\"looks\",\"ltd\",\"m\",\"made\",\"mainly\",\"make\",\"makes\",\"many\",\"may\",\"maybe\",\"me\",\"mean\",\"means\",\"meantime\",\"meanwhile\",\"merely\",\"mg\",\"might\",\"million\",\"miss\",\"ml\",\"more\",\"moreover\",\"most\",\"mostly\",\"mr\",\"mrs\",\"much\",\"mug\",\"must\",\"my\",\"myself\",\"n\",\"na\",\"name\",\"namely\",\"nay\",\"nd\",\"near\",\"nearly\",\"necessarily\",\"necessary\",\"need\",\"needs\",\"neither\",\"never\",\"nevertheless\",\"new\",\"next\",\"nine\",\"ninety\",\"no\",\"nobody\",\"non\",\"none\",\"nonetheless\",\"noone\",\"nor\",\"normally\",\"nos\",\"not\",\"noted\",\"nothing\",\"now\",\"nowhere\",\"o\",\"obtain\",\"obtained\",\"obviously\",\"of\",\"off\",\"often\",\"oh\",\"ok\",\"okay\",\"old\",\"omitted\",\"on\",\"once\",\"one\",\"ones\",\"only\",\"onto\",\"or\",\"ord\",\"other\",\"others\",\"otherwise\",\"ought\",\"our\",\"ours\",\"ourselves\",\"out\",\"outside\",\"over\",\"overall\",\"owing\",\"own\",\"p\",\"page\",\"pages\",\"part\",\"particular\",\"particularly\",\"past\",\"per\",\"perhaps\",\"placed\",\"please\",\"plus\",\"poorly\",\"possible\",\"possibly\",\"potentially\",\"pp\",\"predominantly\",\"present\",\"previously\",\"primarily\",\"probably\",\"promptly\",\"proud\",\"provides\",\"put\",\"q\",\"que\",\"quickly\",\"quite\",\"qv\",\"r\",\"ran\",\"rather\",\"rd\",\"re\",\"readily\",\"really\",\"recent\",\"recently\",\"ref\",\"refs\",\"regarding\",\"regardless\",\"regards\",\"related\",\"relatively\",\"research\",\"respectively\",\"resulted\",\"resulting\",\"results\",\"right\",\"run\",\"s\",\"said\",\"same\",\"saw\",\"say\",\"saying\",\"says\",\"sec\",\"section\",\"see\",\"seeing\",\"seem\",\"seemed\",\"seeming\",\"seems\",\"seen\",\"self\",\"selves\",\"sent\",\"seven\",\"several\",\"shall\",\"she\",\"shed\",\"she'll\",\"shes\",\"should\",\"shouldn't\",\"show\",\"showed\",\"shown\",\"showns\",\"shows\",\"significant\",\"significantly\",\n",
    "               \"similar\",\"similarly\",\"since\",\"six\",\"slightly\",\"so\",\"some\",\"somebody\",\"somehow\",\"someone\",\"somethan\",\"something\",\"sometime\",\"sometimes\",\"somewhat\",\"somewhere\",\"soon\",\"sorry\",\"specifically\",\"specified\",\"specify\",\"specifying\",\"still\",\"stop\",\"strongly\",\"sub\",\"substantially\",\"successfully\",\"such\",\"sufficiently\",\"suggest\",\"sup\",\"sure\",\t\"t\",\"take\",\"taken\",\"taking\",\"tell\",\"tends\",\"th\",\"than\",\"thank\",\"thanks\",\"thanx\",\"that\",\"that'll\",\"thats\",\"that've\",\"the\",\"their\",\"theirs\",\"them\",\"themselves\",\"then\",\"thence\",\"there\",\"thereafter\",\"thereby\",\"thered\",\"therefore\",\"therein\",\"there'll\",\"thereof\",\"therere\",\"theres\",\"thereto\",\"thereupon\",\"there've\",\"these\",\"they\",\"theyd\",\"they'll\",\"theyre\",\"they've\",\"think\",\"this\",\"those\",\"thou\",\"though\",\"thoughh\",\"thousand\",\"throug\",\"through\",\"throughout\",\"thru\",\"thus\",\"til\",\"tip\",\"to\",\"together\",\"too\",\"took\",\"toward\",\"towards\",\"tried\",\"tries\",\"truly\",\"try\",\"trying\",\"ts\",\"twice\",\"two\",\"u\",\"un\",\"under\",\"unfortunately\",\"unless\",\"unlike\",\"unlikely\",\"until\",\"unto\",\"up\",\"upon\",\"ups\",\"us\",\"use\",\"used\",\"useful\",\"usefully\",\"usefulness\",\"uses\",\"using\",\"usually\",\"v\",\"value\",\"various\",\"'ve\",\"very\",\"via\",\"viz\",\"vol\",\"vols\",\"vs\",\"w\",\"want\",\"wants\",\"was\",\"wasnt\",\"way\",\"we\",\"wed\",\"welcome\",\"we'll\",\"went\",\"were\",\"werent\",\"we've\",\"what\",\"whatever\",\"what'll\",\"whats\",\"when\",\"whence\",\"whenever\",\"where\",\"whereafter\",\"whereas\",\"whereby\",\"wherein\",\"wheres\",\"whereupon\",\"wherever\",\"whether\",\"which\",\"while\",\"whim\",\"whither\",\"who\",\"whod\",\"whoever\",\"whole\",\"who'll\",\"whom\",\"whomever\",\"whos\",\"whose\",\"why\",\"widely\",\"willing\",\"wish\",\"with\",\"within\",\"without\",\"wont\",\"words\",\"world\",\"would\",\"wouldnt\",\"www\",\"x\",\"y\",\"yes\",\"yet\",\"you\",\"youd\",\"you'll\",\"your\",\"youre\",\"yours\",\"yourself\",\"yourselves\",\"you've\",\"z\",\"zero\"]\n",
    "    nlp = spacy.load(r'C:\\Users\\pares\\AppData\\Local\\Continuum\\anaconda3\\Lib\\site-packages\\en_core_web_sm\\en_core_web_sm-2.1.0', disable=['parser', 'ner'])\n",
    "    \n",
    "    def clean_text(text):\n",
    "        text = text.lower() #lower-casing\n",
    "        text = [i for i in word_tokenize(text) if i not in stop_words] #remvoving stop-words\n",
    "        doc = nlp(' '.join(text))\n",
    "        text = [token.lemma_ for token in doc] #lemmatizing the reviews\n",
    "        text = ' '.join(text)    \n",
    "        text = re.sub(r'\\d+','',text) #removing numbers\n",
    "        text = text.translate(str.maketrans('','',string.punctuation)) #removing punctuation\n",
    "        text = text.strip() #removing white-spaces\n",
    "        return text\n",
    "    df['review'] = df.review.apply(clean_text)\n",
    "    return df"
   ]
  },
  {
   "cell_type": "code",
   "execution_count": 372,
   "metadata": {},
   "outputs": [
    {
     "name": "stdout",
     "output_type": "stream",
     "text": [
      "Total time taken to clean 00:16:37.05\n"
     ]
    }
   ],
   "source": [
    "#function to perform data cleaning using parallel processing\n",
    "start = time.time()\n",
    "\n",
    "def parallelize(dataframe,func):\n",
    "    dataframe_split = np.array_split(dataframe,partitions)\n",
    "    pool = mp.Pool(cores)\n",
    "    dataframe_return = pd.concat(pool.map(func,dataframe_split),ignore_index = True)\n",
    "    pool.close()\n",
    "    \n",
    "    return dataframe_return\n",
    "\n",
    "\n",
    "if __name__ == '__main__':\n",
    "    #mp.set_start_method('spawn')\n",
    "    cores = mp.cpu_count()\n",
    "    partitions = cores\n",
    "    \n",
    "    clean_data = parallelize(clean_data,clean_apply)\n",
    "    \n",
    "    \n",
    "    end = time.time()\n",
    "    \n",
    "    #time taken to remove non-frequent words\n",
    "    hours, rem = divmod(end-start, 3600)\n",
    "    minutes, seconds = divmod(rem, 60)\n",
    "    print(\"Total time taken to clean\",\"{:0>2}:{:0>2}:{:05.2f}\".format(int(hours),int(minutes),seconds))"
   ]
  },
  {
   "cell_type": "code",
   "execution_count": 373,
   "metadata": {},
   "outputs": [
    {
     "name": "stdout",
     "output_type": "stream",
     "text": [
      "<class 'pandas.core.frame.DataFrame'>\n",
      "RangeIndex: 395172 entries, 0 to 395171\n",
      "Data columns (total 3 columns):\n",
      "id        395172 non-null int64\n",
      "title     395172 non-null object\n",
      "review    395172 non-null object\n",
      "dtypes: int64(1), object(2)\n",
      "memory usage: 9.0+ MB\n"
     ]
    }
   ],
   "source": [
    "#sanity check\n",
    "clean_data.info()"
   ]
  },
  {
   "cell_type": "code",
   "execution_count": 374,
   "metadata": {},
   "outputs": [],
   "source": [
    "#saving the cleaned reviews\n",
    "clean_data.to_pickle('clean_data_lemmatized.pkl')"
   ]
  },
  {
   "cell_type": "code",
   "execution_count": 375,
   "metadata": {},
   "outputs": [
    {
     "data": {
      "text/plain": [
       "197401"
      ]
     },
     "execution_count": 375,
     "metadata": {},
     "output_type": "execute_result"
    }
   ],
   "source": [
    "words = list(itertools.chain(*list(clean_data.review.apply(word_tokenize))))\n",
    "len(set(words))"
   ]
  },
  {
   "cell_type": "markdown",
   "metadata": {},
   "source": [
    "We now have 197,401 unique tokens that we will use for building our topic model"
   ]
  },
  {
   "cell_type": "code",
   "execution_count": null,
   "metadata": {},
   "outputs": [],
   "source": []
  },
  {
   "cell_type": "code",
   "execution_count": null,
   "metadata": {},
   "outputs": [],
   "source": []
  }
 ],
 "metadata": {
  "kernelspec": {
   "display_name": "Python 3",
   "language": "python",
   "name": "python3"
  },
  "language_info": {
   "codemirror_mode": {
    "name": "ipython",
    "version": 3
   },
   "file_extension": ".py",
   "mimetype": "text/x-python",
   "name": "python",
   "nbconvert_exporter": "python",
   "pygments_lexer": "ipython3",
   "version": "3.7.3"
  }
 },
 "nbformat": 4,
 "nbformat_minor": 2
}
