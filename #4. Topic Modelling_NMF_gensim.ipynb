{
 "cells": [
  {
   "cell_type": "markdown",
   "metadata": {},
   "source": [
    "### This is part 4 in topic modelling series\n",
    "- Here, I prepare an NMF model on the Amazon Fine Food Reviews."
   ]
  },
  {
   "cell_type": "code",
   "execution_count": 101,
   "metadata": {},
   "outputs": [],
   "source": [
    "import pandas as pd\n",
    "import numpy as np\n",
    "from sklearn.feature_extraction.text import CountVectorizer\n",
    "from gensim import matutils,models\n",
    "from nltk import word_tokenize\n",
    "from gensim import corpora\n",
    "from gensim.models.coherencemodel import CoherenceModel\n",
    "import matplotlib.pyplot as plt\n",
    "from gensim.corpora import Dictionary\n",
    "from gensim.models.nmf import Nmf\n",
    "from sklearn.decomposition import NMF\n",
    "import pyLDAvis.gensim\n",
    "pyLDAvis.enable_notebook()\n",
    "import warnings\n",
    "warnings.filterwarnings(\"ignore\")"
   ]
  },
  {
   "cell_type": "code",
   "execution_count": 3,
   "metadata": {},
   "outputs": [],
   "source": [
    "clean_data = pd.read_pickle(\"clean_data_lemmatized.pkl\")"
   ]
  },
  {
   "cell_type": "code",
   "execution_count": 4,
   "metadata": {},
   "outputs": [
    {
     "name": "stdout",
     "output_type": "stream",
     "text": [
      "<class 'pandas.core.frame.DataFrame'>\n",
      "RangeIndex: 395172 entries, 0 to 395171\n",
      "Data columns (total 3 columns):\n",
      "id        395172 non-null int64\n",
      "title     395172 non-null object\n",
      "review    395172 non-null object\n",
      "dtypes: int64(1), object(2)\n",
      "memory usage: 9.0+ MB\n"
     ]
    },
    {
     "data": {
      "text/html": [
       "<div>\n",
       "<style scoped>\n",
       "    .dataframe tbody tr th:only-of-type {\n",
       "        vertical-align: middle;\n",
       "    }\n",
       "\n",
       "    .dataframe tbody tr th {\n",
       "        vertical-align: top;\n",
       "    }\n",
       "\n",
       "    .dataframe thead th {\n",
       "        text-align: right;\n",
       "    }\n",
       "</style>\n",
       "<table border=\"1\" class=\"dataframe\">\n",
       "  <thead>\n",
       "    <tr style=\"text-align: right;\">\n",
       "      <th></th>\n",
       "      <th>id</th>\n",
       "      <th>title</th>\n",
       "      <th>review</th>\n",
       "    </tr>\n",
       "  </thead>\n",
       "  <tbody>\n",
       "    <tr>\n",
       "      <th>0</th>\n",
       "      <td>0</td>\n",
       "      <td>Good Quality Dog Food</td>\n",
       "      <td>buy vitality can dog food product good quality...</td>\n",
       "    </tr>\n",
       "    <tr>\n",
       "      <th>1</th>\n",
       "      <td>1</td>\n",
       "      <td>Not as Advertised</td>\n",
       "      <td>product arrive label jumbo salt peanut  peanut...</td>\n",
       "    </tr>\n",
       "    <tr>\n",
       "      <th>2</th>\n",
       "      <td>2</td>\n",
       "      <td>\"Delight\" says it all</td>\n",
       "      <td>confection century  light  pillowy citrus gela...</td>\n",
       "    </tr>\n",
       "    <tr>\n",
       "      <th>3</th>\n",
       "      <td>3</td>\n",
       "      <td>Cough Medicine</td>\n",
       "      <td>secret ingredient robitussin  addition root be...</td>\n",
       "    </tr>\n",
       "    <tr>\n",
       "      <th>4</th>\n",
       "      <td>4</td>\n",
       "      <td>Great taffy</td>\n",
       "      <td>great taffy great price  wide assortment yummy...</td>\n",
       "    </tr>\n",
       "  </tbody>\n",
       "</table>\n",
       "</div>"
      ],
      "text/plain": [
       "   id                  title  \\\n",
       "0   0  Good Quality Dog Food   \n",
       "1   1      Not as Advertised   \n",
       "2   2  \"Delight\" says it all   \n",
       "3   3         Cough Medicine   \n",
       "4   4            Great taffy   \n",
       "\n",
       "                                              review  \n",
       "0  buy vitality can dog food product good quality...  \n",
       "1  product arrive label jumbo salt peanut  peanut...  \n",
       "2  confection century  light  pillowy citrus gela...  \n",
       "3  secret ingredient robitussin  addition root be...  \n",
       "4  great taffy great price  wide assortment yummy...  "
      ]
     },
     "execution_count": 4,
     "metadata": {},
     "output_type": "execute_result"
    }
   ],
   "source": [
    "#data check\n",
    "clean_data.info()\n",
    "clean_data.head()"
   ]
  },
  {
   "cell_type": "code",
   "execution_count": 5,
   "metadata": {},
   "outputs": [],
   "source": [
    "training,testing = np.split(clean_data,[int(0.7*len(clean_data))])\n",
    "testing.reset_index(drop = True,inplace = True)"
   ]
  },
  {
   "cell_type": "markdown",
   "metadata": {},
   "source": [
    "### Stopwords"
   ]
  },
  {
   "cell_type": "code",
   "execution_count": 6,
   "metadata": {},
   "outputs": [],
   "source": [
    "#updated stop-words\n",
    "stop_words = [\"a\",\"able\",\"about\",\"above\",\"abst\",\"accordance\",\"according\",\"accordingly\",\"across\",\"act\",\"actually\",\"added\",\"adj\",\"affected\",\"affecting\",\"affects\",\"after\",\"afterwards\",\"again\",\"against\",\"ah\",\"all\",\"almost\",\"alone\",\"along\",\"already\",\"also\",\"although\",\"always\",\"am\",\"among\",\"amongst\",\"an\",\"and\",\"announce\",\"another\",\"any\",\"anybody\",\"anyhow\",\"anymore\",\"anyone\",\"anything\",\"anyway\",\"anyways\",\"anywhere\",\"apparently\",\"approximately\",\"are\",\"aren\",\"arent\",\"arise\",\"around\",\"as\",\"aside\",\"ask\",\"asking\",\"at\",\"auth\",\"available\",\"away\",\"awfully\",\"b\",\"back\",\"be\",\"became\",\"because\",\"become\",\"becomes\",\"becoming\",\"been\",\"before\",\"beforehand\",\"begin\",\"beginning\",\"beginnings\",\"begins\",\"behind\",\"being\",\"believe\",\"below\",\"beside\",\"besides\",\"between\",\"beyond\",\"biol\",\"both\",\"brief\",\"briefly\",\"but\",\"by\",\"c\",\"ca\",\"came\",\"can\",\"cannot\",\"cause\",\"causes\",\"certain\",\"certainly\",\"co\",\"com\",\"come\",\"comes\",\"contain\",\"containing\",\"contains\",\"could\",\"couldnt\",\"d\",\"date\",\"did\",\"different\",\"do\",\"does\",\"doing\",\"done\",\"down\",\"downwards\",\"due\",\"during\",\"e\",\"each\",\"ed\",\"edu\",\"effect\",\"eg\",\"eight\",\"eighty\",\"either\",\"else\",\"elsewhere\",\"end\",\"ending\",\"enough\",\"especially\",\"et\",\"etc\",\"even\",\"ever\",\"every\",\"everybody\",\"everyone\",\"everything\",\"everywhere\",\"ex\",\"except\",\"f\",\"far\",\"few\",\"ff\",\"fifth\",\"first\",\"five\",\"fix\",\"followed\",\"following\",\"follows\",\"for\",\"former\",\"formerly\",\"forth\",\"found\",\"four\",\"from\",\"further\",\"furthermore\",\"g\",\"gave\",\"get\",\"gets\",\"getting\",\"give\",\"given\",\"gives\",\"giving\",\"go\",\"goes\",\"gone\",\"got\",\"gotten\",\"h\",\"had\",\"happens\",\"hardly\",\"has\",\"have\",\"having\",\"he\",\"hed\",\"hence\",\"her\",\"here\",\"hereafter\",\"hereby\",\"herein\",\"heres\",\"hereupon\",\"hers\",\"herself\",\"hes\",\"hi\",\"hid\",\"him\",\"himself\",\"his\",\"hither\",\"home\",\"how\",\"howbeit\",\"however\",\"hundred\",\"i\",\"id\",\"ie\",\"if\",\"im\",\"immediate\",\"immediately\",\"importance\",\"important\",\"in\",\"inc\",\"indeed\",\"index\",\"information\",\"instead\",\"into\",\"invention\",\"inward\",\"is\",\"it\",\"itd\",\"its\",\"itself\",\"j\",\"just\",\"k\",\"keep\",\"keeps\",\"kept\",\"kg\",\"km\",\"know\",\"known\",\"knows\",\"l\",\"largely\",\"last\",\"lately\",\"later\",\"latter\",\"latterly\",\"least\",\"less\",\"lest\",\"let\",\"lets\",\"like\",\"liked\",\"likely\",\"line\",\"little\",\"look\",\"looking\",\"looks\",\"ltd\",\"m\",\"made\",\"mainly\",\"make\",\"makes\",\"many\",\"may\",\"maybe\",\"me\",\"mean\",\"means\",\"meantime\",\"meanwhile\",\"merely\",\"mg\",\"might\",\"million\",\"miss\",\"ml\",\"more\",\"moreover\",\"most\",\"mostly\",\"mr\",\"mrs\",\"much\",\"mug\",\"must\",\"my\",\"myself\",\"n\",\"na\",\"name\",\"namely\",\"nay\",\"nd\",\"near\",\"nearly\",\"necessarily\",\"necessary\",\"need\",\"needs\",\"neither\",\"never\",\"nevertheless\",\"new\",\"next\",\"nine\",\"ninety\",\"no\",\"nobody\",\"non\",\"none\",\"nonetheless\",\"noone\",\"nor\",\"normally\",\"nos\",\"not\",\"noted\",\"nothing\",\"now\",\"nowhere\",\"o\",\"obtain\",\"obtained\",\"obviously\",\"of\",\"off\",\"often\",\"oh\",\"ok\",\"okay\",\"old\",\"omitted\",\"on\",\"once\",\"one\",\"ones\",\"only\",\"onto\",\"or\",\"ord\",\"other\",\"others\",\"otherwise\",\"ought\",\"our\",\"ours\",\"ourselves\",\"out\",\"outside\",\"over\",\"overall\",\"owing\",\"own\",\"p\",\"page\",\"pages\",\"part\",\"particular\",\"particularly\",\"past\",\"per\",\"perhaps\",\"placed\",\"please\",\"plus\",\"poorly\",\"possible\",\"possibly\",\"potentially\",\"pp\",\"predominantly\",\"present\",\"previously\",\"primarily\",\"probably\",\"promptly\",\"proud\",\"provides\",\"put\",\"q\",\"que\",\"quickly\",\"quite\",\"qv\",\"r\",\"ran\",\"rather\",\"rd\",\"re\",\"readily\",\"really\",\"recent\",\"recently\",\"ref\",\"refs\",\"regarding\",\"regardless\",\"regards\",\"related\",\"relatively\",\"research\",\"respectively\",\"resulted\",\"resulting\",\"results\",\"right\",\"run\",\"s\",\"said\",\"same\",\"saw\",\"say\",\"saying\",\"says\",\"sec\",\"section\",\"see\",\"seeing\",\"seem\",\"seemed\",\"seeming\",\"seems\",\"seen\",\"self\",\"selves\",\"sent\",\"seven\",\"several\",\"shall\",\"she\",\"shed\",\"shes\",\"should\",\"show\",\"showed\",\"shown\",\"showns\",\"shows\",\"significant\",\"significantly\",\n",
    "               \"similar\",\"similarly\",\"since\",\"six\",\"slightly\",\"so\",\"some\",\"somebody\",\"somehow\",\"someone\",\"somethan\",\"something\",\"sometime\",\"sometimes\",\"somewhat\",\"somewhere\",\"soon\",\"sorry\",\"specifically\",\"specified\",\"specify\",\"specifying\",\"still\",\"stop\",\"strongly\",\"sub\",\"substantially\",\"successfully\",\"such\",\"sufficiently\",\"suggest\",\"sup\",\"sure\",\"t\",\"take\",\"taken\",\"taking\",\"tell\",\"tends\",\"th\",\"than\",\"thank\",\"thanks\",\"thanx\",\"that\",\"thats\",\"the\",\"their\",\"theirs\",\"them\",\"themselves\",\"then\",\"thence\",\"there\",\"thereafter\",\"thereby\",\"thered\",\"therefore\",\"therein\",\"thereof\",\"therere\",\"theres\",\"thereto\",\"thereupon\",\"these\",\"they\",\"theyd\",\"theyre\",\"think\",\"this\",\"those\",\"thou\",\"though\",\"thoughh\",\"thousand\",\"throug\",\"through\",\"throughout\",\"thru\",\"thus\",\"til\",\"tip\",\"to\",\"together\",\"too\",\"took\",\"toward\",\"towards\",\"tried\",\"tries\",\"truly\",\"try\",\"trying\",\"ts\",\"twice\",\"two\",\"u\",\"un\",\"under\",\"unfortunately\",\"unless\",\"unlike\",\"unlikely\",\"until\",\"unto\",\"up\",\"upon\",\"ups\",\"us\",\"use\",\"used\",\"useful\",\"usefully\",\"usefulness\",\"uses\",\"using\",\"usually\",\"v\",\"value\",\"various\",\"very\",\"via\",\"viz\",\"vol\",\"vols\",\"vs\",\"w\",\"want\",\"wants\",\"was\",\"wasnt\",\"way\",\"we\",\"wed\",\"welcome\",\"went\",\"were\",\"werent\",\"what\",\"whatever\",\"whats\",\"when\",\"whence\",\"whenever\",\"where\",\"whereafter\",\"whereas\",\"whereby\",\"wherein\",\"wheres\",\"whereupon\",\"wherever\",\"whether\",\"which\",\"while\",\"whim\",\"whither\",\"who\",\"whod\",\"whoever\",\"whole\",\"whom\",\"whomever\",\"whos\",\"whose\",\"why\",\"widely\",\"willing\",\"wish\",\"with\",\"within\",\"without\",\"wont\",\"words\",\"world\",\"would\",\"wouldnt\",\"www\",\"x\",\"y\",\"yes\",\"yet\",\"you\",\"youd\",\"your\",\"youre\",\"yours\",\"yourself\",\"yourselves\",\"z\",\"zero\"]\n",
    "\n",
    "#adding term \"perfect\" noticed previously\n",
    "domain1 = [\"taste\",\"excellent\",\"love\",\"nice\",\"better\",\"wonderful\",\"stuff\",\"delicious\",\"yummy\",\"tasty\",\"favorite\",\"product\",\n",
    "          \"flavor\",\"better\",\"best\",\"great\",\"good\",\"pretty\",\"pleasant\",\"surprise\",\"decent\",\"tasting\",\"quality\",\"buy\",\"will\",\n",
    "          \"yum\",\"omg\",\"tastes\",\"market\",\"special\",\"service\",\"shipping\",\"easy\",\"perfect\",\"shipment\",\"shipped\"]\n",
    "\n",
    "stop_words.extend(domain1)\n",
    "domain2 = [\"store\",\"find\",\"amazon\",\"order\",\"item\",\"arrive\",\"receive\",\"package\",\"open\",\"pack\",\"packet\",\"box\",\"food\",\"review\",\n",
    "           \"eat\",\"well\",\"recommend\",\"highly\",\"help\",\"purchase\",\"money\",\"price\",\"cost\",\"free\",\"pay\",\"payment\",\"list\",\"feel\",\n",
    "          \"subscribe\",\"thing\",\"sell\",\"top\",\"recommendation\"]\n",
    "stop_words.extend(domain2)"
   ]
  },
  {
   "cell_type": "markdown",
   "metadata": {},
   "source": [
    "# Non-Negative Matrix Factorization (NMF)\n",
    "\n",
    "- NMF basically works very similar to SVD, which is it breaks up a matrix or decomposes a matrix into 2. SO, when our original matrix is a document-term matrix, through NMF we can decompose it to 2 matrices, document-topic matrix and topic-term matrix. One additional property that differentiats NMF from SVD is, it only allows for non-negative elements in the matrix - This property works really well in applications like Topic Modelling since negative elements/ negative weightage don't make much sense for different terms.\n",
    "\n",
    "### NMF Advantages and differentiators\n",
    "- While LDA is a probabilistic approach, NMF is done through matrix factorization \n",
    "- Faster and more Scalable than LDA"
   ]
  },
  {
   "cell_type": "markdown",
   "metadata": {},
   "source": [
    "#### NMF Attempt #1 (using all text)"
   ]
  },
  {
   "cell_type": "code",
   "execution_count": 98,
   "metadata": {},
   "outputs": [],
   "source": [
    "#preparing document-term matrix\n",
    "docs = list(training.review)\n",
    "vec = CountVectorizer(lowercase = True, stop_words = stop_words,ngram_range = (1,3),max_features = 5000)\n",
    "X = vec.fit_transform(docs)"
   ]
  },
  {
   "cell_type": "code",
   "execution_count": 99,
   "metadata": {},
   "outputs": [],
   "source": [
    "#we can directly convert our scipy_sparse_matrix 'X' into genism corpus using matutils\n",
    "corpus = matutils.Sparse2Corpus(X.T)"
   ]
  },
  {
   "cell_type": "code",
   "execution_count": 100,
   "metadata": {},
   "outputs": [],
   "source": [
    "#id2word is a dictionary containing all terms(mapped to a code) and their locations(indexes) in term-document matrix\n",
    "id2word = dict([(k,v) for k,v in enumerate(vec.get_feature_names())])"
   ]
  },
  {
   "cell_type": "code",
   "execution_count": 102,
   "metadata": {},
   "outputs": [],
   "source": [
    "#Lets save our corpus in \"mm\" format as it can be processed faster\n",
    "#corpora.MmCorpus.serialize('all_text_corpus.mm',corpus)\n",
    "corpusmm = corpora.MmCorpus('all_text_corpus.mm')"
   ]
  },
  {
   "cell_type": "markdown",
   "metadata": {},
   "source": [
    "#### * Although we have an idea on the number of topics, lets use coherence scores to understand number of topics we need to extract"
   ]
  },
  {
   "cell_type": "code",
   "execution_count": 103,
   "metadata": {},
   "outputs": [],
   "source": [
    "c_score = []\n",
    "for topic in range(10,40,4):\n",
    "    nmf_model = Nmf(corpus = corpusmm,id2word = id2word, num_topics = topic,eval_every = None,passes=3)\n",
    "    umass_metric = CoherenceModel(model = nmf_model,corpus = corpusmm,coherence = \"u_mass\")\n",
    "    c_score.append(umass_metric.get_coherence())"
   ]
  },
  {
   "cell_type": "code",
   "execution_count": 104,
   "metadata": {},
   "outputs": [
    {
     "data": {
      "image/png": "[encoded data removed]",
      "text/plain": [
       "<Figure size 432x288 with 1 Axes>"
      ]
     },
     "metadata": {
      "needs_background": "light"
     },
     "output_type": "display_data"
    }
   ],
   "source": [
    "topics = range(10,40,4)\n",
    "#umass-graph\n",
    "plt.figure()\n",
    "plt.plot(topics,c_score,marker = \"o\")\n",
    "plt.xlabel(\"Numer of Topics\")\n",
    "plt.ylabel(\"Coherence Score -- u_mass\")\n",
    "plt.title(\"Choosing the optimal number of topics using NMF\") \n",
    "plt.show()"
   ]
  },
  {
   "cell_type": "markdown",
   "metadata": {},
   "source": [
    "We again get the similar range (between 10-25). That gives us an additional confirmation! Lets start with 10,15 and 20 topics and understand the distinct themes and then build our final model."
   ]
  },
  {
   "cell_type": "code",
   "execution_count": 105,
   "metadata": {},
   "outputs": [
    {
     "data": {
      "text/plain": [
       "[(0,\n",
       "  '0.110*\"dog\" + 0.039*\"treat\" + 0.010*\"chew\" + 0.009*\"feed\" + 0.009*\"ingredient\" + 0.008*\"small\" + 0.007*\"pet\" + 0.006*\"year\" + 0.006*\"day\" + 0.006*\"vet\"'),\n",
       " (1,\n",
       "  '0.068*\"oil\" + 0.067*\"brand\" + 0.050*\"coconut\" + 0.028*\"chip\" + 0.021*\"olive\" + 0.020*\"coconut oil\" + 0.015*\"olive oil\" + 0.014*\"hair\" + 0.009*\"year\" + 0.009*\"coconut water\"'),\n",
       " (2,\n",
       "  '0.143*\"coffee\" + 0.038*\"cup\" + 0.012*\"roast\" + 0.011*\"brew\" + 0.010*\"strong\" + 0.010*\"bean\" + 0.009*\"cup coffee\" + 0.009*\"blend\" + 0.008*\"starbuck\" + 0.007*\"pod\"'),\n",
       " (3,\n",
       "  '0.126*\"bag\" + 0.035*\"salt\" + 0.028*\"chip\" + 0.009*\"potato\" + 0.007*\"small\" + 0.007*\"tea bag\" + 0.006*\"popcorn\" + 0.006*\"pound\" + 0.006*\"oz\" + 0.006*\"pepper\"'),\n",
       " (4,\n",
       "  '0.021*\"time\" + 0.019*\"cookie\" + 0.011*\"bar\" + 0.010*\"snack\" + 0.009*\"day\" + 0.008*\"calorie\" + 0.007*\"peanut\" + 0.006*\"butter\" + 0.006*\"work\" + 0.006*\"year\"'),\n",
       " (5,\n",
       "  '0.136*\"chocolate\" + 0.039*\"bar\" + 0.029*\"dark\" + 0.022*\"dark chocolate\" + 0.019*\"milk\" + 0.013*\"cocoa\" + 0.013*\"hot\" + 0.012*\"sweet\" + 0.009*\"mix\" + 0.009*\"sugar\"'),\n",
       " (6,\n",
       "  '0.019*\"organic\" + 0.017*\"oil\" + 0.013*\"ingredient\" + 0.013*\"add\" + 0.012*\"mix\" + 0.011*\"milk\" + 0.010*\"sauce\" + 0.009*\"rice\" + 0.006*\"chicken\" + 0.006*\"fat\"'),\n",
       " (7,\n",
       "  '0.077*\"cat\" + 0.023*\"cup\" + 0.011*\"chicken\" + 0.011*\"dry\" + 0.010*\"day\" + 0.009*\"water\" + 0.009*\"feed\" + 0.008*\"time\" + 0.007*\"year\" + 0.006*\"pet\"'),\n",
       " (8,\n",
       "  '0.052*\"drink\" + 0.047*\"water\" + 0.027*\"sugar\" + 0.013*\"juice\" + 0.012*\"bottle\" + 0.010*\"sweet\" + 0.008*\"soda\" + 0.008*\"energy\" + 0.007*\"calorie\" + 0.006*\"fruit\"'),\n",
       " (9,\n",
       "  '0.177*\"tea\" + 0.031*\"green\" + 0.026*\"green tea\" + 0.011*\"cup\" + 0.010*\"tea bag\" + 0.009*\"black\" + 0.008*\"drink\" + 0.007*\"bag\" + 0.007*\"black tea\" + 0.007*\"brew\"')]"
      ]
     },
     "execution_count": 105,
     "metadata": {},
     "output_type": "execute_result"
    }
   ],
   "source": [
    "#nmf model for 10 topics\n",
    "nmf10 = Nmf(corpus = corpusmm,id2word = id2word, num_topics = 10,eval_every = None,passes=3)\n",
    "nmf10.print_topics()"
   ]
  },
  {
   "cell_type": "code",
   "execution_count": 106,
   "metadata": {},
   "outputs": [
    {
     "data": {
      "text/plain": [
       "[(0,\n",
       "  '0.099*\"sugar\" + 0.019*\"sweet\" + 0.015*\"syrup\" + 0.012*\"ingredient\" + 0.011*\"sweetener\" + 0.011*\"natural\" + 0.009*\"calorie\" + 0.009*\"juice\" + 0.008*\"fruit\" + 0.008*\"low\"'),\n",
       " (1,\n",
       "  '0.109*\"dog\" + 0.039*\"treat\" + 0.010*\"chew\" + 0.009*\"ingredient\" + 0.009*\"small\" + 0.008*\"feed\" + 0.007*\"time\" + 0.007*\"day\" + 0.007*\"pet\" + 0.006*\"dog treat\"'),\n",
       " (2,\n",
       "  '0.190*\"tea\" + 0.033*\"green\" + 0.027*\"green tea\" + 0.010*\"tea bag\" + 0.009*\"black\" + 0.008*\"black tea\" + 0.007*\"leave\" + 0.007*\"brew\" + 0.006*\"tea tea\" + 0.006*\"strong\"'),\n",
       " (3,\n",
       "  '0.072*\"brand\" + 0.013*\"sweet\" + 0.012*\"year\" + 0.010*\"time\" + 0.009*\"rice\" + 0.008*\"organic\" + 0.008*\"potato\" + 0.008*\"chip\" + 0.005*\"baby\" + 0.005*\"local\"'),\n",
       " (4,\n",
       "  '0.156*\"cookie\" + 0.017*\"chip\" + 0.012*\"ginger\" + 0.011*\"soft\" + 0.010*\"gluten\" + 0.009*\"chocolate chip\" + 0.008*\"bit\" + 0.008*\"chewy\" + 0.008*\"chocolate\" + 0.008*\"texture\"'),\n",
       " (5,\n",
       "  '0.153*\"cup\" + 0.017*\"keurig\" + 0.014*\"time\" + 0.014*\"cup coffee\" + 0.011*\"brew\" + 0.010*\"day\" + 0.009*\"work\" + 0.008*\"hot\" + 0.007*\"machine\" + 0.006*\"brewer\"'),\n",
       " (6,\n",
       "  '0.087*\"oil\" + 0.027*\"olive\" + 0.025*\"coconut\" + 0.021*\"olive oil\" + 0.017*\"coconut oil\" + 0.010*\"hair\" + 0.010*\"organic\" + 0.007*\"ingredient\" + 0.007*\"cook\" + 0.007*\"salt\"'),\n",
       " (7,\n",
       "  '0.032*\"bar\" + 0.016*\"snack\" + 0.015*\"peanut\" + 0.013*\"butter\" + 0.012*\"fat\" + 0.012*\"calorie\" + 0.010*\"salt\" + 0.010*\"peanut butter\" + 0.009*\"protein\" + 0.009*\"healthy\"'),\n",
       " (8,\n",
       "  '0.107*\"water\" + 0.020*\"coconut\" + 0.018*\"bottle\" + 0.012*\"add\" + 0.011*\"hot\" + 0.011*\"coconut water\" + 0.009*\"sauce\" + 0.007*\"ph\" + 0.006*\"essentia\" + 0.006*\"noodle\"'),\n",
       " (9,\n",
       "  '0.051*\"mix\" + 0.016*\"add\" + 0.016*\"bread\" + 0.015*\"time\" + 0.012*\"gluten\" + 0.010*\"milk\" + 0.010*\"sauce\" + 0.008*\"recipe\" + 0.008*\"cake\" + 0.006*\"flour\"'),\n",
       " (10,\n",
       "  '0.143*\"bag\" + 0.035*\"chip\" + 0.009*\"tea bag\" + 0.008*\"small\" + 0.007*\"potato\" + 0.007*\"pound\" + 0.007*\"size\" + 0.006*\"oz\" + 0.006*\"snack\" + 0.006*\"large\"'),\n",
       " (11,\n",
       "  '0.178*\"chocolate\" + 0.039*\"dark\" + 0.030*\"dark chocolate\" + 0.028*\"bar\" + 0.027*\"milk\" + 0.017*\"cocoa\" + 0.015*\"hot\" + 0.009*\"milk chocolate\" + 0.009*\"chocolate bar\" + 0.009*\"sweet\"'),\n",
       " (12,\n",
       "  '0.174*\"coffee\" + 0.014*\"roast\" + 0.012*\"bean\" + 0.011*\"strong\" + 0.010*\"starbuck\" + 0.010*\"brew\" + 0.009*\"blend\" + 0.008*\"vanilla\" + 0.007*\"pod\" + 0.007*\"dark\"'),\n",
       " (13,\n",
       "  '0.091*\"drink\" + 0.018*\"juice\" + 0.017*\"energy\" + 0.013*\"day\" + 0.013*\"organic\" + 0.010*\"soda\" + 0.009*\"fruit\" + 0.008*\"energy drink\" + 0.007*\"milk\" + 0.007*\"bottle\"'),\n",
       " (14,\n",
       "  '0.095*\"cat\" + 0.016*\"chicken\" + 0.013*\"dry\" + 0.010*\"feed\" + 0.010*\"day\" + 0.008*\"year\" + 0.008*\"time\" + 0.008*\"ingredient\" + 0.008*\"treat\" + 0.007*\"pet\"')]"
      ]
     },
     "execution_count": 106,
     "metadata": {},
     "output_type": "execute_result"
    }
   ],
   "source": [
    "#nmf model for 15 topics\n",
    "nmf15 = Nmf(corpus = corpusmm,id2word = id2word, num_topics = 15,eval_every = None,passes=3)\n",
    "nmf15.print_topics()"
   ]
  },
  {
   "cell_type": "code",
   "execution_count": 107,
   "metadata": {},
   "outputs": [
    {
     "data": {
      "text/plain": [
       "[(0,\n",
       "  '0.096*\"peanut\" + 0.093*\"butter\" + 0.069*\"peanut butter\" + 0.033*\"treat\" + 0.013*\"cookie\" + 0.012*\"calorie\" + 0.011*\"jar\" + 0.011*\"fat\" + 0.010*\"pb\" + 0.007*\"cracker\"'),\n",
       " (1,\n",
       "  '0.092*\"mix\" + 0.034*\"time\" + 0.024*\"green\" + 0.024*\"day\" + 0.020*\"bread\" + 0.016*\"green tea\" + 0.014*\"add\" + 0.013*\"cake\" + 0.011*\"year\" + 0.010*\"gluten\"'),\n",
       " (2,\n",
       "  '0.156*\"bag\" + 0.010*\"tea bag\" + 0.010*\"small\" + 0.008*\"pound\" + 0.008*\"size\" + 0.007*\"large\" + 0.007*\"lb\" + 0.007*\"candy\" + 0.007*\"plastic\" + 0.007*\"fresh\"'),\n",
       " (3,\n",
       "  '0.109*\"sweet\" + 0.042*\"potato\" + 0.041*\"chip\" + 0.019*\"rice\" + 0.016*\"potato chip\" + 0.014*\"sweet potato\" + 0.013*\"honey\" + 0.011*\"bit\" + 0.008*\"snack\" + 0.007*\"cereal\"'),\n",
       " (4,\n",
       "  '0.202*\"cup\" + 0.025*\"coffee\" + 0.022*\"keurig\" + 0.021*\"cup coffee\" + 0.017*\"brew\" + 0.009*\"machine\" + 0.008*\"brewer\" + 0.008*\"add\" + 0.008*\"hot\" + 0.007*\"strong\"'),\n",
       " (5,\n",
       "  '0.220*\"tea\" + 0.031*\"green\" + 0.028*\"green tea\" + 0.011*\"tea bag\" + 0.010*\"black\" + 0.009*\"black tea\" + 0.008*\"leave\" + 0.007*\"brew\" + 0.007*\"tea tea\" + 0.006*\"leaf\"'),\n",
       " (6,\n",
       "  '0.046*\"milk\" + 0.026*\"baby\" + 0.020*\"cereal\" + 0.015*\"formula\" + 0.015*\"day\" + 0.013*\"month\" + 0.010*\"start\" + 0.010*\"year\" + 0.007*\"feed\" + 0.007*\"protein\"'),\n",
       " (7,\n",
       "  '0.034*\"ingredient\" + 0.018*\"brand\" + 0.014*\"corn\" + 0.013*\"natural\" + 0.010*\"high\" + 0.010*\"syrup\" + 0.009*\"gluten\" + 0.009*\"chicken\" + 0.008*\"flour\" + 0.008*\"salt\"'),\n",
       " (8,\n",
       "  '0.104*\"oil\" + 0.035*\"coconut\" + 0.033*\"olive\" + 0.025*\"olive oil\" + 0.021*\"coconut oil\" + 0.011*\"hair\" + 0.009*\"brand\" + 0.008*\"salt\" + 0.008*\"cook\" + 0.007*\"extra\"'),\n",
       " (9,\n",
       "  '0.218*\"coffee\" + 0.011*\"brew\" + 0.011*\"starbuck\" + 0.011*\"vanilla\" + 0.010*\"bean\" + 0.010*\"strong\" + 0.008*\"coffee coffee\" + 0.008*\"ground\" + 0.007*\"cup coffee\" + 0.007*\"espresso\"'),\n",
       " (10,\n",
       "  '0.055*\"water\" + 0.024*\"time\" + 0.013*\"sauce\" + 0.012*\"bottle\" + 0.011*\"work\" + 0.010*\"add\" + 0.009*\"hot\" + 0.007*\"noodle\" + 0.006*\"coconut\" + 0.006*\"long\"'),\n",
       " (11,\n",
       "  '0.111*\"cat\" + 0.016*\"chicken\" + 0.014*\"dry\" + 0.012*\"treat\" + 0.011*\"feed\" + 0.009*\"year\" + 0.008*\"pet\" + 0.008*\"day\" + 0.008*\"litter\" + 0.007*\"diet\"'),\n",
       " (12,\n",
       "  '0.047*\"blend\" + 0.035*\"roast\" + 0.023*\"green\" + 0.023*\"dark\" + 0.015*\"bean\" + 0.012*\"mountain\" + 0.012*\"strong\" + 0.011*\"french\" + 0.010*\"bold\" + 0.010*\"star\"'),\n",
       " (13,\n",
       "  '0.135*\"sugar\" + 0.014*\"sweetener\" + 0.013*\"add\" + 0.012*\"sweet\" + 0.012*\"hot\" + 0.011*\"syrup\" + 0.011*\"calorie\" + 0.010*\"stevia\" + 0.009*\"low\" + 0.007*\"fruit\"'),\n",
       " (14,\n",
       "  '0.196*\"chocolate\" + 0.039*\"dark\" + 0.032*\"dark chocolate\" + 0.021*\"bar\" + 0.021*\"milk\" + 0.018*\"cocoa\" + 0.013*\"hot\" + 0.010*\"milk chocolate\" + 0.009*\"chocolate bar\" + 0.009*\"hot chocolate\"'),\n",
       " (15,\n",
       "  '0.123*\"drink\" + 0.022*\"juice\" + 0.020*\"energy\" + 0.017*\"water\" + 0.015*\"soda\" + 0.010*\"day\" + 0.010*\"calorie\" + 0.010*\"bottle\" + 0.010*\"fruit\" + 0.010*\"energy drink\"'),\n",
       " (16,\n",
       "  '0.131*\"dog\" + 0.042*\"treat\" + 0.012*\"chew\" + 0.009*\"small\" + 0.009*\"feed\" + 0.007*\"pet\" + 0.007*\"vet\" + 0.007*\"dog treat\" + 0.007*\"year\" + 0.006*\"toy\"'),\n",
       " (17,\n",
       "  '0.167*\"organic\" + 0.021*\"rice\" + 0.010*\"honey\" + 0.009*\"juice\" + 0.009*\"fruit\" + 0.009*\"newman\" + 0.008*\"baby\" + 0.008*\"seed\" + 0.008*\"ingredient\" + 0.007*\"natural\"'),\n",
       " (18,\n",
       "  '0.153*\"cookie\" + 0.058*\"chip\" + 0.014*\"chocolate chip\" + 0.011*\"ginger\" + 0.011*\"soft\" + 0.009*\"chewy\" + 0.009*\"salt\" + 0.009*\"ahoy\" + 0.009*\"chip cookie\" + 0.009*\"chip ahoy\"'),\n",
       " (19,\n",
       "  '0.081*\"bar\" + 0.033*\"snack\" + 0.020*\"fat\" + 0.020*\"calorie\" + 0.018*\"healthy\" + 0.017*\"protein\" + 0.012*\"low\" + 0.011*\"gram\" + 0.010*\"fiber\" + 0.008*\"high\"')]"
      ]
     },
     "execution_count": 107,
     "metadata": {},
     "output_type": "execute_result"
    }
   ],
   "source": [
    "#nmf model for 20 topics\n",
    "nmf20 = Nmf(corpus = corpusmm,id2word = id2word, num_topics = 20,eval_every = None,passes=3)\n",
    "nmf20.print_topics()"
   ]
  },
  {
   "cell_type": "code",
   "execution_count": 108,
   "metadata": {},
   "outputs": [
    {
     "data": {
      "text/plain": [
       "[(11,\n",
       "  '0.034*\"syrup\" + 0.014*\"bad\" + 0.014*\"sweet\" + 0.014*\"year\" + 0.012*\"corn\" + 0.012*\"honey\" + 0.011*\"high\" + 0.009*\"maple\" + 0.009*\"fructose\" + 0.008*\"corn syrup\"'),\n",
       " (14,\n",
       "  '0.031*\"rice\" + 0.021*\"add\" + 0.021*\"time\" + 0.020*\"noodle\" + 0.020*\"soup\" + 0.019*\"chicken\" + 0.017*\"cook\" + 0.014*\"pasta\" + 0.010*\"meal\" + 0.009*\"minute\"'),\n",
       " (20,\n",
       "  '0.042*\"time\" + 0.042*\"milk\" + 0.024*\"baby\" + 0.024*\"cereal\" + 0.023*\"day\" + 0.014*\"month\" + 0.012*\"year\" + 0.011*\"formula\" + 0.011*\"work\" + 0.010*\"start\"'),\n",
       " (3,\n",
       "  '0.018*\"day\" + 0.015*\"healthy\" + 0.014*\"almond\" + 0.013*\"diet\" + 0.013*\"natural\" + 0.012*\"blue\" + 0.011*\"energy\" + 0.010*\"body\" + 0.010*\"seed\" + 0.009*\"work\"'),\n",
       " (0,\n",
       "  '0.103*\"water\" + 0.035*\"bottle\" + 0.012*\"time\" + 0.011*\"coconut\" + 0.010*\"hair\" + 0.008*\"coconut water\" + 0.008*\"ph\" + 0.007*\"essentia\" + 0.007*\"oil\" + 0.006*\"work\"'),\n",
       " (4,\n",
       "  '0.162*\"bag\" + 0.011*\"tea bag\" + 0.010*\"small\" + 0.008*\"pound\" + 0.008*\"size\" + 0.008*\"large\" + 0.007*\"lb\" + 0.007*\"plastic\" + 0.007*\"time\" + 0.007*\"fresh\"'),\n",
       " (22,\n",
       "  '0.100*\"sauce\" + 0.061*\"hot\" + 0.022*\"butter\" + 0.022*\"peanut\" + 0.020*\"hot sauce\" + 0.016*\"peanut butter\" + 0.013*\"heat\" + 0.012*\"pepper\" + 0.011*\"spicy\" + 0.010*\"add\"'),\n",
       " (15,\n",
       "  '0.124*\"salt\" + 0.019*\"sea\" + 0.018*\"sea salt\" + 0.016*\"pepper\" + 0.012*\"snack\" + 0.011*\"popcorn\" + 0.010*\"sodium\" + 0.009*\"low\" + 0.009*\"salty\" + 0.007*\"fat\"'),\n",
       " (2,\n",
       "  '0.194*\"brand\" + 0.013*\"year\" + 0.010*\"local\" + 0.009*\"expensive\" + 0.009*\"cheap\" + 0.008*\"compare\" + 0.008*\"grocery\" + 0.006*\"lot\" + 0.005*\"popcorn\" + 0.005*\"difference\"'),\n",
       " (21,\n",
       "  '0.183*\"coffee\" + 0.015*\"roast\" + 0.012*\"bean\" + 0.011*\"strong\" + 0.010*\"starbuck\" + 0.010*\"brew\" + 0.010*\"blend\" + 0.009*\"vanilla\" + 0.008*\"pod\" + 0.008*\"dark\"'),\n",
       " (10,\n",
       "  '0.191*\"treat\" + 0.016*\"small\" + 0.015*\"dog treat\" + 0.011*\"size\" + 0.010*\"toy\" + 0.009*\"ball\" + 0.009*\"training\" + 0.009*\"break\" + 0.008*\"chew\" + 0.008*\"piece\"'),\n",
       " (18,\n",
       "  '0.124*\"oil\" + 0.077*\"organic\" + 0.043*\"olive\" + 0.032*\"olive oil\" + 0.017*\"coconut oil\" + 0.010*\"extra\" + 0.009*\"virgin\" + 0.008*\"butter\" + 0.008*\"extra virgin\" + 0.007*\"coconut\"'),\n",
       " (12,\n",
       "  '0.080*\"juice\" + 0.045*\"fruit\" + 0.027*\"cherry\" + 0.018*\"apple\" + 0.018*\"soda\" + 0.014*\"natural\" + 0.013*\"switch\" + 0.012*\"orange\" + 0.012*\"vitamin\" + 0.012*\"ounce\"'),\n",
       " (24,\n",
       "  '0.125*\"mix\" + 0.030*\"water\" + 0.030*\"bread\" + 0.026*\"add\" + 0.016*\"gluten\" + 0.014*\"cake\" + 0.012*\"powder\" + 0.012*\"pancake\" + 0.012*\"bake\" + 0.011*\"recipe\"'),\n",
       " (1,\n",
       "  '0.196*\"cup\" + 0.021*\"keurig\" + 0.018*\"cup coffee\" + 0.015*\"brew\" + 0.008*\"brewer\" + 0.008*\"machine\" + 0.008*\"bold\" + 0.007*\"strong\" + 0.007*\"work\" + 0.007*\"large\"'),\n",
       " (19,\n",
       "  '0.173*\"drink\" + 0.025*\"energy\" + 0.016*\"day\" + 0.013*\"energy drink\" + 0.012*\"soda\" + 0.011*\"water\" + 0.010*\"calorie\" + 0.009*\"caffeine\" + 0.009*\"ginger\" + 0.007*\"beverage\"'),\n",
       " (5,\n",
       "  '0.211*\"chocolate\" + 0.045*\"dark\" + 0.035*\"dark chocolate\" + 0.018*\"cocoa\" + 0.018*\"milk\" + 0.010*\"milk chocolate\" + 0.010*\"bar\" + 0.009*\"chocolate bar\" + 0.009*\"hot chocolate\" + 0.008*\"sweet\"'),\n",
       " (9,\n",
       "  '0.072*\"ingredient\" + 0.070*\"coconut\" + 0.022*\"natural\" + 0.020*\"milk\" + 0.016*\"coconut oil\" + 0.015*\"fat\" + 0.014*\"coconut water\" + 0.014*\"corn\" + 0.013*\"oil\" + 0.011*\"vitamin\"'),\n",
       " (16,\n",
       "  '0.188*\"chip\" + 0.055*\"potato\" + 0.034*\"potato chip\" + 0.033*\"sweet\" + 0.016*\"fat\" + 0.015*\"chocolate chip\" + 0.013*\"snack\" + 0.010*\"sweet potato\" + 0.010*\"kettle\" + 0.009*\"calorie\"'),\n",
       " (17,\n",
       "  '0.178*\"sugar\" + 0.029*\"sweet\" + 0.017*\"sweetener\" + 0.016*\"calorie\" + 0.013*\"low\" + 0.012*\"stevia\" + 0.012*\"cereal\" + 0.011*\"add\" + 0.010*\"gram\" + 0.009*\"brown\"')]"
      ]
     },
     "execution_count": 108,
     "metadata": {},
     "output_type": "execute_result"
    }
   ],
   "source": [
    "#nmf model for 25 topics\n",
    "nmf25 = Nmf(corpus = corpusmm,id2word = id2word, num_topics = 25,eval_every = None,passes=3)\n",
    "nmf25.print_topics()"
   ]
  },
  {
   "cell_type": "code",
   "execution_count": 109,
   "metadata": {},
   "outputs": [],
   "source": [
    "c_score2 = []\n",
    "for topic in range(10,16,1):\n",
    "    nmf_model = Nmf(corpus = corpusmm,id2word = id2word, num_topics = topic,eval_every = None,passes=3)\n",
    "    umass_metric = CoherenceModel(model = nmf_model,corpus = corpusmm,coherence = \"u_mass\")\n",
    "    c_score2.append(umass_metric.get_coherence())"
   ]
  },
  {
   "cell_type": "code",
   "execution_count": 110,
   "metadata": {},
   "outputs": [
    {
     "data": {
      "image/png": "[encoded data removed]",
      "text/plain": [
       "<Figure size 432x288 with 1 Axes>"
      ]
     },
     "metadata": {
      "needs_background": "light"
     },
     "output_type": "display_data"
    }
   ],
   "source": [
    "topics = range(10,16,1)\n",
    "#umass-graph\n",
    "plt.figure()\n",
    "plt.plot(topics,c_score2,marker = \"o\")\n",
    "plt.xlabel(\"Numer of Topics\")\n",
    "plt.ylabel(\"Coherence Score -- u_mass\")\n",
    "plt.title(\"Choosing the optimal number of topics using NMF\") \n",
    "plt.show()"
   ]
  },
  {
   "cell_type": "markdown",
   "metadata": {},
   "source": [
    "## Final NMF model"
   ]
  },
  {
   "cell_type": "code",
   "execution_count": 111,
   "metadata": {},
   "outputs": [
    {
     "data": {
      "text/plain": [
       "[(0,\n",
       "  '0.141*\"bag\" + 0.011*\"chip\" + 0.010*\"small\" + 0.009*\"tea bag\" + 0.008*\"size\" + 0.007*\"candy\" + 0.007*\"pound\" + 0.007*\"snack\" + 0.007*\"large\" + 0.006*\"lb\"'),\n",
       " (1,\n",
       "  '0.105*\"cat\" + 0.014*\"dry\" + 0.014*\"chicken\" + 0.011*\"feed\" + 0.010*\"treat\" + 0.009*\"ingredient\" + 0.009*\"brand\" + 0.008*\"pet\" + 0.008*\"year\" + 0.008*\"diet\"'),\n",
       " (2,\n",
       "  '0.187*\"tea\" + 0.033*\"green\" + 0.027*\"green tea\" + 0.010*\"drink\" + 0.010*\"black\" + 0.009*\"tea bag\" + 0.007*\"black tea\" + 0.007*\"leave\" + 0.006*\"brew\" + 0.006*\"tea tea\"'),\n",
       " (3,\n",
       "  '0.059*\"cookie\" + 0.021*\"chip\" + 0.015*\"snack\" + 0.014*\"fat\" + 0.013*\"calorie\" + 0.011*\"salt\" + 0.010*\"peanut\" + 0.010*\"butter\" + 0.009*\"sweet\" + 0.008*\"sugar\"'),\n",
       " (4,\n",
       "  '0.165*\"coffee\" + 0.013*\"roast\" + 0.011*\"bean\" + 0.010*\"strong\" + 0.010*\"drink\" + 0.010*\"starbuck\" + 0.009*\"brew\" + 0.009*\"blend\" + 0.008*\"vanilla\" + 0.007*\"dark\"'),\n",
       " (5,\n",
       "  '0.117*\"chocolate\" + 0.047*\"bar\" + 0.025*\"dark\" + 0.020*\"dark chocolate\" + 0.019*\"milk\" + 0.011*\"cocoa\" + 0.009*\"sweet\" + 0.009*\"candy\" + 0.007*\"organic\" + 0.007*\"chocolate bar\"'),\n",
       " (6,\n",
       "  '0.081*\"oil\" + 0.037*\"coconut\" + 0.022*\"olive\" + 0.019*\"coconut oil\" + 0.017*\"olive oil\" + 0.016*\"organic\" + 0.011*\"hair\" + 0.010*\"brand\" + 0.007*\"butter\" + 0.007*\"ingredient\"'),\n",
       " (7,\n",
       "  '0.020*\"time\" + 0.012*\"sauce\" + 0.011*\"mix\" + 0.010*\"add\" + 0.010*\"water\" + 0.008*\"day\" + 0.007*\"hot\" + 0.007*\"work\" + 0.006*\"year\" + 0.005*\"cook\"'),\n",
       " (8,\n",
       "  '0.185*\"cup\" + 0.020*\"keurig\" + 0.017*\"cup coffee\" + 0.015*\"water\" + 0.014*\"brew\" + 0.008*\"add\" + 0.008*\"hot\" + 0.008*\"machine\" + 0.008*\"bold\" + 0.008*\"brewer\"'),\n",
       " (9,\n",
       "  '0.049*\"drink\" + 0.036*\"water\" + 0.036*\"sugar\" + 0.014*\"juice\" + 0.012*\"sweet\" + 0.009*\"calorie\" + 0.009*\"bottle\" + 0.009*\"soda\" + 0.008*\"fruit\" + 0.008*\"energy\"'),\n",
       " (10,\n",
       "  '0.112*\"dog\" + 0.038*\"treat\" + 0.010*\"ingredient\" + 0.010*\"chew\" + 0.009*\"feed\" + 0.008*\"small\" + 0.007*\"pet\" + 0.006*\"vet\" + 0.006*\"dog treat\" + 0.006*\"day\"')]"
      ]
     },
     "execution_count": 111,
     "metadata": {},
     "output_type": "execute_result"
    }
   ],
   "source": [
    "#nmf model for 25 topics\n",
    "nmf11 = Nmf(corpus = corpusmm,id2word = id2word, num_topics = 11,eval_every = None,passes=100)\n",
    "nmf11.print_topics()"
   ]
  },
  {
   "cell_type": "markdown",
   "metadata": {},
   "source": [
    "So now, we have our final topics from the NMF model, lets summarize them into the themes they represent:\n",
    "\n",
    "    1. Salty Snacks\n",
    "    2. Cat Food\n",
    "    3. Tea(s)\n",
    "    4. Sweet Snacks\n",
    "    5. Coffee Flavors\n",
    "    6. Chocolates\n",
    "    7. Hair products\n",
    "    8. Recipe\n",
    "    9. Coffee equipments\n",
    "    10. Beverages\n",
    "    11. Dog Treats/ Food"
   ]
  },
  {
   "cell_type": "markdown",
   "metadata": {},
   "source": [
    "#### Model Insights\n",
    "\n",
    "## Finding the most dominant topic in each review"
   ]
  },
  {
   "cell_type": "code",
   "execution_count": 163,
   "metadata": {},
   "outputs": [],
   "source": [
    "docs_with_topics = pd.DataFrame(columns = [\"document_ID\",\"dominant_topic\",\"perc_topic\",\"keywords\",\"review\"])\n",
    "docs_with_topics[\"document_ID\"] = training.id\n",
    "docs_with_topics[\"review\"] = training.review"
   ]
  },
  {
   "cell_type": "code",
   "execution_count": 164,
   "metadata": {},
   "outputs": [],
   "source": [
    "for i in range(len(corpusmm)):\n",
    "    if corpus[i]:\n",
    "        topic,topic_perc = sorted(nmf11[corpusmm[i]],key = lambda x:x[1],reverse = True)[0]\n",
    "        topic_keywords = ', '.join([word for word,word_perc in nmf11.show_topic(topic)])\n",
    "        doc_topic_dist = pd.Series([topic,topic_perc,topic_keywords])\n",
    "        docs_with_topics.at[i,\"dominant_topic\"],docs_with_topics.at[i,\"perc_topic\"],docs_with_topics.at[i,\"keywords\"] = doc_topic_dist\n",
    "    else:\n",
    "        doc_topic_dist = pd.Series([-1,0.0,\"NA\"])\n",
    "        docs_with_topics.at[i,\"dominant_topic\"],docs_with_topics.at[i,\"perc_topic\"],docs_with_topics.at[i,\"keywords\"] = doc_topic_dist"
   ]
  },
  {
   "cell_type": "code",
   "execution_count": 165,
   "metadata": {},
   "outputs": [
    {
     "data": {
      "text/html": [
       "<div>\n",
       "<style scoped>\n",
       "    .dataframe tbody tr th:only-of-type {\n",
       "        vertical-align: middle;\n",
       "    }\n",
       "\n",
       "    .dataframe tbody tr th {\n",
       "        vertical-align: top;\n",
       "    }\n",
       "\n",
       "    .dataframe thead th {\n",
       "        text-align: right;\n",
       "    }\n",
       "</style>\n",
       "<table border=\"1\" class=\"dataframe\">\n",
       "  <thead>\n",
       "    <tr style=\"text-align: right;\">\n",
       "      <th></th>\n",
       "      <th>document_ID</th>\n",
       "      <th>dominant_topic</th>\n",
       "      <th>perc_topic</th>\n",
       "      <th>keywords</th>\n",
       "      <th>review</th>\n",
       "    </tr>\n",
       "  </thead>\n",
       "  <tbody>\n",
       "    <tr>\n",
       "      <th>0</th>\n",
       "      <td>0</td>\n",
       "      <td>10</td>\n",
       "      <td>0.965202</td>\n",
       "      <td>dog, treat, ingredient, chew, feed, small, pet...</td>\n",
       "      <td>buy vitality can dog food product good quality...</td>\n",
       "    </tr>\n",
       "    <tr>\n",
       "      <th>1</th>\n",
       "      <td>1</td>\n",
       "      <td>3</td>\n",
       "      <td>0.625889</td>\n",
       "      <td>cookie, chip, snack, fat, calorie, salt, peanu...</td>\n",
       "      <td>product arrive label jumbo salt peanut  peanut...</td>\n",
       "    </tr>\n",
       "    <tr>\n",
       "      <th>2</th>\n",
       "      <td>2</td>\n",
       "      <td>10</td>\n",
       "      <td>0.359542</td>\n",
       "      <td>dog, treat, ingredient, chew, feed, small, pet...</td>\n",
       "      <td>confection century  light  pillowy citrus gela...</td>\n",
       "    </tr>\n",
       "    <tr>\n",
       "      <th>3</th>\n",
       "      <td>3</td>\n",
       "      <td>9</td>\n",
       "      <td>0.576217</td>\n",
       "      <td>drink, water, sugar, juice, sweet, calorie, bo...</td>\n",
       "      <td>secret ingredient robitussin  addition root be...</td>\n",
       "    </tr>\n",
       "    <tr>\n",
       "      <th>4</th>\n",
       "      <td>4</td>\n",
       "      <td>7</td>\n",
       "      <td>0.784518</td>\n",
       "      <td>time, sauce, mix, add, water, day, hot, work, ...</td>\n",
       "      <td>great taffy great price  wide assortment yummy...</td>\n",
       "    </tr>\n",
       "    <tr>\n",
       "      <th>5</th>\n",
       "      <td>5</td>\n",
       "      <td>0</td>\n",
       "      <td>0.383155</td>\n",
       "      <td>bag, chip, small, tea bag, size, candy, pound,...</td>\n",
       "      <td>wild hair taffy order pound bag  taffy enjoyab...</td>\n",
       "    </tr>\n",
       "    <tr>\n",
       "      <th>6</th>\n",
       "      <td>6</td>\n",
       "      <td>7</td>\n",
       "      <td>0.394707</td>\n",
       "      <td>time, sauce, mix, add, water, day, hot, work, ...</td>\n",
       "      <td>saltwater taffy great flavor soft chewy  candy...</td>\n",
       "    </tr>\n",
       "    <tr>\n",
       "      <th>7</th>\n",
       "      <td>7</td>\n",
       "      <td>3</td>\n",
       "      <td>0.546424</td>\n",
       "      <td>cookie, chip, snack, fat, calorie, salt, peanu...</td>\n",
       "      <td>taffy good  soft chewy  flavor amazing  defini...</td>\n",
       "    </tr>\n",
       "    <tr>\n",
       "      <th>8</th>\n",
       "      <td>8</td>\n",
       "      <td>1</td>\n",
       "      <td>1</td>\n",
       "      <td>cat, dry, chicken, feed, treat, ingredient, br...</td>\n",
       "      <td>sprout cat eat grass  love  rotate wheatgrass rye</td>\n",
       "    </tr>\n",
       "    <tr>\n",
       "      <th>9</th>\n",
       "      <td>9</td>\n",
       "      <td>10</td>\n",
       "      <td>0.966479</td>\n",
       "      <td>dog, treat, ingredient, chew, feed, small, pet...</td>\n",
       "      <td>healthy dog food  good digestion  good small p...</td>\n",
       "    </tr>\n",
       "  </tbody>\n",
       "</table>\n",
       "</div>"
      ],
      "text/plain": [
       "   document_ID dominant_topic perc_topic  \\\n",
       "0            0             10   0.965202   \n",
       "1            1              3   0.625889   \n",
       "2            2             10   0.359542   \n",
       "3            3              9   0.576217   \n",
       "4            4              7   0.784518   \n",
       "5            5              0   0.383155   \n",
       "6            6              7   0.394707   \n",
       "7            7              3   0.546424   \n",
       "8            8              1          1   \n",
       "9            9             10   0.966479   \n",
       "\n",
       "                                            keywords  \\\n",
       "0  dog, treat, ingredient, chew, feed, small, pet...   \n",
       "1  cookie, chip, snack, fat, calorie, salt, peanu...   \n",
       "2  dog, treat, ingredient, chew, feed, small, pet...   \n",
       "3  drink, water, sugar, juice, sweet, calorie, bo...   \n",
       "4  time, sauce, mix, add, water, day, hot, work, ...   \n",
       "5  bag, chip, small, tea bag, size, candy, pound,...   \n",
       "6  time, sauce, mix, add, water, day, hot, work, ...   \n",
       "7  cookie, chip, snack, fat, calorie, salt, peanu...   \n",
       "8  cat, dry, chicken, feed, treat, ingredient, br...   \n",
       "9  dog, treat, ingredient, chew, feed, small, pet...   \n",
       "\n",
       "                                              review  \n",
       "0  buy vitality can dog food product good quality...  \n",
       "1  product arrive label jumbo salt peanut  peanut...  \n",
       "2  confection century  light  pillowy citrus gela...  \n",
       "3  secret ingredient robitussin  addition root be...  \n",
       "4  great taffy great price  wide assortment yummy...  \n",
       "5  wild hair taffy order pound bag  taffy enjoyab...  \n",
       "6  saltwater taffy great flavor soft chewy  candy...  \n",
       "7  taffy good  soft chewy  flavor amazing  defini...  \n",
       "8  sprout cat eat grass  love  rotate wheatgrass rye  \n",
       "9  healthy dog food  good digestion  good small p...  "
      ]
     },
     "execution_count": 165,
     "metadata": {},
     "output_type": "execute_result"
    }
   ],
   "source": [
    "docs_with_topics.head(10)"
   ]
  },
  {
   "cell_type": "markdown",
   "metadata": {},
   "source": [
    "## Document Distribution for each topic"
   ]
  },
  {
   "cell_type": "code",
   "execution_count": 252,
   "metadata": {},
   "outputs": [
    {
     "data": {
      "text/html": [
       "<div>\n",
       "<style scoped>\n",
       "    .dataframe tbody tr th:only-of-type {\n",
       "        vertical-align: middle;\n",
       "    }\n",
       "\n",
       "    .dataframe tbody tr th {\n",
       "        vertical-align: top;\n",
       "    }\n",
       "\n",
       "    .dataframe thead th {\n",
       "        text-align: right;\n",
       "    }\n",
       "</style>\n",
       "<table border=\"1\" class=\"dataframe\">\n",
       "  <thead>\n",
       "    <tr style=\"text-align: right;\">\n",
       "      <th></th>\n",
       "      <th>topic_no</th>\n",
       "      <th>topic_keywords</th>\n",
       "      <th>total_documents</th>\n",
       "      <th>perc_docs</th>\n",
       "    </tr>\n",
       "  </thead>\n",
       "  <tbody>\n",
       "    <tr>\n",
       "      <th>0</th>\n",
       "      <td>-1</td>\n",
       "      <td>Random review - keywords not available</td>\n",
       "      <td>146</td>\n",
       "      <td>0.052780</td>\n",
       "    </tr>\n",
       "    <tr>\n",
       "      <th>1</th>\n",
       "      <td>0</td>\n",
       "      <td>bag, chip, small, tea bag, size, candy, pound,...</td>\n",
       "      <td>9015</td>\n",
       "      <td>3.258983</td>\n",
       "    </tr>\n",
       "    <tr>\n",
       "      <th>2</th>\n",
       "      <td>1</td>\n",
       "      <td>cat, dry, chicken, feed, treat, ingredient, br...</td>\n",
       "      <td>7336</td>\n",
       "      <td>2.652014</td>\n",
       "    </tr>\n",
       "    <tr>\n",
       "      <th>3</th>\n",
       "      <td>2</td>\n",
       "      <td>tea, green, green tea, drink, black, tea bag, ...</td>\n",
       "      <td>15187</td>\n",
       "      <td>5.490203</td>\n",
       "    </tr>\n",
       "    <tr>\n",
       "      <th>4</th>\n",
       "      <td>3</td>\n",
       "      <td>cookie, chip, snack, fat, calorie, salt, peanu...</td>\n",
       "      <td>21880</td>\n",
       "      <td>7.909768</td>\n",
       "    </tr>\n",
       "    <tr>\n",
       "      <th>5</th>\n",
       "      <td>4</td>\n",
       "      <td>coffee, roast, bean, strong, drink, starbuck, ...</td>\n",
       "      <td>21157</td>\n",
       "      <td>7.648399</td>\n",
       "    </tr>\n",
       "    <tr>\n",
       "      <th>6</th>\n",
       "      <td>5</td>\n",
       "      <td>chocolate, bar, dark, dark chocolate, milk, co...</td>\n",
       "      <td>12326</td>\n",
       "      <td>4.455932</td>\n",
       "    </tr>\n",
       "    <tr>\n",
       "      <th>7</th>\n",
       "      <td>6</td>\n",
       "      <td>oil, coconut, olive, coconut oil, olive oil, o...</td>\n",
       "      <td>7226</td>\n",
       "      <td>2.612248</td>\n",
       "    </tr>\n",
       "    <tr>\n",
       "      <th>8</th>\n",
       "      <td>7</td>\n",
       "      <td>time, sauce, mix, add, water, day, hot, work, ...</td>\n",
       "      <td>135611</td>\n",
       "      <td>49.024293</td>\n",
       "    </tr>\n",
       "    <tr>\n",
       "      <th>9</th>\n",
       "      <td>8</td>\n",
       "      <td>cup, keurig, cup coffee, water, brew, add, hot...</td>\n",
       "      <td>4451</td>\n",
       "      <td>1.609067</td>\n",
       "    </tr>\n",
       "    <tr>\n",
       "      <th>10</th>\n",
       "      <td>9</td>\n",
       "      <td>drink, water, sugar, juice, sweet, calorie, bo...</td>\n",
       "      <td>25484</td>\n",
       "      <td>9.212638</td>\n",
       "    </tr>\n",
       "    <tr>\n",
       "      <th>11</th>\n",
       "      <td>10</td>\n",
       "      <td>dog, treat, ingredient, chew, feed, small, pet...</td>\n",
       "      <td>16801</td>\n",
       "      <td>6.073675</td>\n",
       "    </tr>\n",
       "  </tbody>\n",
       "</table>\n",
       "</div>"
      ],
      "text/plain": [
       "    topic_no                                     topic_keywords  \\\n",
       "0         -1             Random review - keywords not available   \n",
       "1          0  bag, chip, small, tea bag, size, candy, pound,...   \n",
       "2          1  cat, dry, chicken, feed, treat, ingredient, br...   \n",
       "3          2  tea, green, green tea, drink, black, tea bag, ...   \n",
       "4          3  cookie, chip, snack, fat, calorie, salt, peanu...   \n",
       "5          4  coffee, roast, bean, strong, drink, starbuck, ...   \n",
       "6          5  chocolate, bar, dark, dark chocolate, milk, co...   \n",
       "7          6  oil, coconut, olive, coconut oil, olive oil, o...   \n",
       "8          7  time, sauce, mix, add, water, day, hot, work, ...   \n",
       "9          8  cup, keurig, cup coffee, water, brew, add, hot...   \n",
       "10         9  drink, water, sugar, juice, sweet, calorie, bo...   \n",
       "11        10  dog, treat, ingredient, chew, feed, small, pet...   \n",
       "\n",
       "    total_documents  perc_docs  \n",
       "0               146   0.052780  \n",
       "1              9015   3.258983  \n",
       "2              7336   2.652014  \n",
       "3             15187   5.490203  \n",
       "4             21880   7.909768  \n",
       "5             21157   7.648399  \n",
       "6             12326   4.455932  \n",
       "7              7226   2.612248  \n",
       "8            135611  49.024293  \n",
       "9              4451   1.609067  \n",
       "10            25484   9.212638  \n",
       "11            16801   6.073675  "
      ]
     },
     "execution_count": 252,
     "metadata": {},
     "output_type": "execute_result"
    }
   ],
   "source": [
    "topic_distribution = pd.DataFrame(columns = [\"topic_no\",\"topic_keywords\",\"total_documents\",\"perc_docs\"])\n",
    "topic_distribution.topic_no = range(11)\n",
    "for i in range(11):\n",
    "    topic_distribution.at[i,\"topic_keywords\"] = ', '.join([word for word,perc in nmf11.show_topic(i)])\n",
    "new_row = pd.DataFrame([pd.Series([-1,\"Random review - keywords not available\",0,0])])\n",
    "new_row.columns = [\"topic_no\",\"topic_keywords\",\"total_documents\",\"perc_docs\"]\n",
    "topic_distribution = pd.concat([new_row,topic_distribution])\n",
    "topic_distribution.total_documents = docs_with_topics.dominant_topic.value_counts().sort_index()\n",
    "topic_distribution.reset_index(drop = True,inplace = True)\n",
    "topic_distribution.total_documents[0] = docs_with_topics.dominant_topic.value_counts().sort_index()[-1]\n",
    "topic_distribution.perc_docs = (topic_distribution.total_documents/topic_distribution.total_documents.sum())*100\n",
    "topic_distribution"
   ]
  },
  {
   "cell_type": "markdown",
   "metadata": {},
   "source": [
    "Our reviews are quite distributed with respect to our topics - Most dominant topic is topic 7 which is about \"Recipe(s)\", and then second comes topic 9 which is about \"Beverages\". The lowest discussed topic is topic 8 - which is about \"Coffee Machine Equipments\".\n",
    "\n",
    "### Key observations\n",
    "- This result is very different from what we got through LDA.\n",
    "- We also got 146 such documents, which NMF was not able to assign to any topic (due to lack of key-words). LDA however assigns all the topics to such documents (by default) and therefore, we picked topic 0 as the most dominant topic for these documents."
   ]
  },
  {
   "cell_type": "markdown",
   "metadata": {},
   "source": [
    "## Top documents for each topic"
   ]
  },
  {
   "cell_type": "code",
   "execution_count": 253,
   "metadata": {},
   "outputs": [],
   "source": [
    "#lets get the original data loaded so that we can what the actual review was\n",
    "clean_data_og = pd.read_pickle(\"clean_data_original.pkl\")"
   ]
  },
  {
   "cell_type": "code",
   "execution_count": 254,
   "metadata": {},
   "outputs": [],
   "source": [
    "#Lets look at the top documents for each topic\n",
    "topic_groups = docs_with_topics.groupby(\"dominant_topic\")\n",
    "ind = []\n",
    "for topic,grp in topic_groups:\n",
    "    temp = grp.sort_values([\"perc_topic\"],ascending = False).head(3)\n",
    "    ind.append([topic,temp.index])"
   ]
  },
  {
   "cell_type": "code",
   "execution_count": 290,
   "metadata": {},
   "outputs": [],
   "source": [
    "topic_dic = {-1:'Random',0:'Salty Snacks',1:'Cat Food',2:'Tea(s)',3:'Sweet Snacks',4:'Coffee Flavors',\n",
    "             5:'Chocolates',6:'Oils',7:'Recipe', 8:'Coffee equipments',9:'Beverages',10:'Dog Treats/ Food'}"
   ]
  },
  {
   "cell_type": "code",
   "execution_count": 291,
   "metadata": {
    "scrolled": false
   },
   "outputs": [
    {
     "name": "stdout",
     "output_type": "stream",
     "text": [
      "\u001b[1;36mTopic\u001b[0m -1 : This topic talks about \u001b[1;31mRandom\u001b[0m\n",
      "\n",
      "Most Representative documents for the topic:\n",
      "\n",
      "['It is okay.  I would not go out of my way to buy it again']\n",
      " \n",
      "['I thought I was receiving 8 packs of eight instead of 6 packs of eight, therefore, I paid way too', 'much for this product.']\n",
      " \n",
      "['Did not have the flavor i was accustomed too. Not sure if I will buy again']\n",
      " \n",
      "\u001b[1;36mTopic\u001b[0m 0 : This topic talks about \u001b[1;31mSalty Snacks\u001b[0m\n",
      "\n",
      "Most Representative documents for the topic:\n",
      "\n",
      "['We bought a few bags at a local grocery outlet for $0.25/bag.  The first bags we bought were close', 'to their shelf date (which is why low price), but we really liked them and they were nice and', 'crispy.  So we bought several more (same price).  The ones tonight have a shelf date of Sep 2011, so', 'I am not sure why the food outlet had them, but I am not complaining -- these are good croutons.']\n",
      " \n",
      "['The Lowrey is Microwave Pork rinds that I received was unacceptable.  I ordered 36 bags and the bags', 'only popped 1/4 of the bag.  All rinds popped but for the amount of the money that I paid for them I', 'could have gone to the store and bought a $2.00 bag already popped and gotten a full bag.  I feel', 'that it should have popped at least half of the bag.  I understand that everyone is counting their', 'pennies but I also think that the consumer should get something for their money.  I really enjoy', 'this product but I probably will not order any more for this reason.']\n",
      " \n",
      "['excellent product....bag expands like popcorn..chowed a bag during avatar the the other night and', 'fell like i was at the movies']\n",
      " \n",
      "\u001b[1;36mTopic\u001b[0m 1 : This topic talks about \u001b[1;31mCat Food\u001b[0m\n",
      "\n",
      "Most Representative documents for the topic:\n",
      "\n",
      "['Right now I am mostly just sprouting this so my cats can eat the grass. They love it. I rotate it', 'around with Wheatgrass and Rye too']\n",
      " \n",
      "['Unfortunatly my cat would not eat it, and he is not that picky. I gave almost all the cans to a', 'friends of mine who has 3 cats, she said they would not eat it either. Bad batch? I do not know....', 'Would not buy it again....']\n",
      " \n",
      "[\"My cats simply just love em'....they are quite finicky...but I am finally able to find it without\", 'having to donate many previous cat food that my cats simply refused to consume.']\n",
      " \n",
      "\u001b[1;36mTopic\u001b[0m 2 : This topic talks about \u001b[1;31mTea(s)\u001b[0m\n",
      "\n",
      "Most Representative documents for the topic:\n",
      "\n",
      "['I bought 2 of these because I love the iced tea made from it. Comes out wonderful. I will buy this', 'again for sure. The price is great also.']\n",
      " \n",
      "['Tulsi Green tea has a great lavor and is good as iced tea as well.']\n",
      " \n",
      "['This is a soothing tea. The taste is mild and satisfying. The best I have tasted in this flavor.']\n",
      " \n",
      "\u001b[1;36mTopic\u001b[0m 3 : This topic talks about \u001b[1;31mSweet Snacks\u001b[0m\n",
      "\n",
      "Most Representative documents for the topic:\n",
      "\n",
      "['I received these as a gift from a co-worker and was thrilled with them.  I recommend these as well', 'as the clove cookies.']\n",
      " \n",
      "['This turned out to be an excellent purchase. The Brie was tasty,cookies,crackers and meat were also', 'fine.I also like the quality of the basket. The wrapping of the basket was not so appealing,but all', 'in all,this was a good buy.']\n",
      " \n",
      "['My boys and I love these cookies!  These are some of my favorite gluten free cookies...I could not', 'stop snitching them from my kids (they are the ones with Celiac).  The packaging makes them perfect', 'for snacking.']\n",
      " \n",
      "\u001b[1;36mTopic\u001b[0m 4 : This topic talks about \u001b[1;31mCoffee Flavors\u001b[0m\n",
      "\n",
      "Most Representative documents for the topic:\n",
      "\n",
      "['Simply put:  Great coffee, even better price... you  will not find a better price anywhere...']\n",
      " \n",
      "['This is absolutely the best coffee in America. Anyone who makes the effort to try this coffee will', 'be addicted. I am a huge proponent of french press coffee, and this stuff is BY FAR the best that', 'way. It is beyond belief in drip as well. Try it and you will see what I mean']\n",
      " \n",
      "['This is BY FAR the BEST coffee I have had so far, and I have tasted MANY flavors. I have never', 'written a review before, but this coffee is so exceptional that I wanted to share my experience with', 'other people. Give it a try !']\n",
      " \n",
      "\u001b[1;36mTopic\u001b[0m 5 : This topic talks about \u001b[1;31mChocolates\u001b[0m\n",
      "\n",
      "Most Representative documents for the topic:\n",
      "\n",
      "['MUY BUENA PRESENTACION, LA CAJA ES COMPACTA, PEQUENA, FACIL TRANSPORTE, MUY BUEN CHOCOLATE, LLEGO A', 'VENEZUELA EN EXCELENTES CONDICIONES, BUEN PRODUCTO']\n",
      " \n",
      "['This chocolate is delicious!!  My husband loves spicy foods and this chocolate completes his search', 'for the ultimate food - spicy chocolate that is nutritious!']\n",
      " \n",
      "['These were supposed to be individual chocolate covered blueberries.  What I received was a solid', 'block of chocolate blueberries.  The chocolate had melted and reformed into a solid mess.  Inedible.', 'Very disappointing.  I have ordered chocolate products from other vendors with no melting issues.']\n",
      " \n",
      "\u001b[1;36mTopic\u001b[0m 6 : This topic talks about \u001b[1;31mOils\u001b[0m\n",
      "\n",
      "Most Representative documents for the topic:\n",
      "\n",
      "['I have been taking Virgin coconut oil in capsulated form for sometime, and had heard that taking it', 'this way was so much better for you.  I read in the reviews that it tasted great.. Not.  In fact the', 'texture freaked me out beyond belief.  I understand that a person can use it for cooking, but I have', 'not tried that yet.']\n",
      " \n",
      "['The product was poorly packaged and leaked in the box.  The truffle oil does not have aromas or', 'flavors of truffle.  When I tried to return it, was ubable becasue it is a gourmet item and', 'perishable.  I have tried many truffle oils in the past and I would not cook with this if it was', 'given to me for free.']\n",
      " \n",
      "['For those who want the health benefits of olive oil, without the flavor and need an oil that can', 'handle high heat, this is the one.  We cook with it and spray it on popcorn, toast - whatever needs', 'a little oil.  This price also beats the grocery store.']\n",
      " \n",
      "\u001b[1;36mTopic\u001b[0m 7 : This topic talks about \u001b[1;31mRecipe\u001b[0m\n",
      "\n",
      "Most Representative documents for the topic:\n",
      "\n",
      "['I am pretty tolerant of foods that do not taste good but this was literally the worst food product I', 'have ever bought. probably. It tastes like rubber and it does not fill you up at all. I ate it with', 'tomato pasta sauce and it was still gross. Also it gave me diarrhea which is really gross. NOT', 'RECOMMENDED.']\n",
      " \n",
      "['I bought this sauce expecting really good sauce. It was terrible. I tried to doctor it myself and no', 'matter what I did it had this yucky aftertaste like old garlic. I can not believe this great chef', 'put his name on the sauce. It is runny, tastes foul, and has a stale aftertaste. Too bad, I was', 'looking forward to tasting something supposedly made by this chef since I do not live anywhere near', 'one of his restaurants. The only thing that saved dinner was some frozen marinara left from another', 'night.Do not buy this sauce!']\n",
      " \n",
      "['So, this is not amazing gourmet food, but you would not be picking this up if you were looking for', 'gourmet.  It is fast, it is easy, it is what you turn to when you are home from work late and you', 'need to cook up something in a hurry without having to think creatively.I am not going to lie, I', 'love \"cheese-product.\"  I am a lover of real cheese too, but there is a special place in my heart', 'for processed liquidy cheese-flavored food stuffs. They should really get a category of its own', '(powdered cheese product, nacho queso, and Velveeta all fall into this delightful category of cheese', 'based non-cheeses.)  Anyway, I love Velveeta piping hot and poured over broccoli, but if you have', 'ever eaten Velveeta and let it cool, you are familiar with the plastic-like texture the Velveta', 'takes on.  It is the same here - you have to eat this meal while it is HOT.  Otherwise, do not', 'bother.  Leftovers are good too - just be sure to nuke it to as hot as you can get it.The', 'instructions call for one breast of chicken.  I feed hungry people, so I added two.  The dehydrated', 'broccoli packet was disappointing, so I also added a fresh head of broccoli to the skillet a little', 'earlier so it could steam in the water.  This was a great move - the fresh broccoli REALLY improves', 'the dinner kit, but it is fine without it.  The pasta to chicken/broccoli ratio was a little low', 'because of my additions, but the pasta is like an orzo anyway, so I did not mind it.Would I eat this', 'once a week?  Probably not.  Would I buy this again?  Probably - it is like keeping a can of pasta', 'sauce in your pantry.  When you have time, it is the best to just make a simple pasta sauce from', 'scratch, but there are days when there is JUST NO TIME... so... this is another pasta-sauce-from-a-', 'jar-spaghetti-night alternative.']\n",
      " \n",
      "\u001b[1;36mTopic\u001b[0m 8 : This topic talks about \u001b[1;31mCoffee equipments\u001b[0m\n",
      "\n",
      "Most Representative documents for the topic:\n",
      "\n",
      "['Great taste, no waste. Each cup is perfect everytime. I only wish that the price will come down to', 'an affordable cost.']\n",
      " \n",
      "['This thing is great. One cup - no waste. Gives off a great aroma.Works just as advertised.']\n",
      " \n",
      "['I have bought alot of K cup for some reason 3/4 of the box the cups explode like the pressure in the', 'cup is no good i will never order them on amazon again!!!!!!']\n",
      " \n",
      "\u001b[1;36mTopic\u001b[0m 9 : This topic talks about \u001b[1;31mBeverages\u001b[0m\n",
      "\n",
      "Most Representative documents for the topic:\n",
      "\n",
      "['This is the best acai juice i have ever had. Tastes so good.Until i got this i really never liked', 'acai juice and now i love it.']\n",
      " \n",
      "['this tastes amazing.  i really do not drink soda or sweet things but this is delicious.  it is', 'fruity and light and much better than soda.  it is richer than juice or should i say more exciting', 'than juice.  if you are looking for an alternative to water, juice or soda, pick up a can of this.', 'it is very good']\n",
      " \n",
      "['This beverage is more than curiously refreshing. It packs a wallop of taste and quick energy.  I', 'would highly recommend it!']\n",
      " \n",
      "\u001b[1;36mTopic\u001b[0m 10 : This topic talks about \u001b[1;31mDog Treats/ Food\u001b[0m\n",
      "\n",
      "Most Representative documents for the topic:\n",
      "\n",
      "['Not really sure if they really are \"power\" bones, but my dog loves the taste and does not complain!', 'We buy lots of other Zuke is products as well, and my Golden loves them all.']\n",
      " \n",
      "['My dog loves these dog chews and he is usually pretty picky. I am not really sure if they clean his', 'teeth, but it keeps him busy when I stick them in the kong toy. They also help his super sensitive', 'intestines soo I can not complain!']\n",
      " \n",
      "['This product is premium dog food at a moderate price & amazon delivers to my door-no lugging cases', 'around,same price as my local feed store without the tax. My Vet recommended this dog food along w/2', 'others ,all my dogs are seniors so i use this & all 3 doing well on it.Highly recommend,use the dry', 'food with this.']\n",
      " \n"
     ]
    }
   ],
   "source": [
    "import textwrap as tw\n",
    "wrapper = tw.TextWrapper(width =100)\n",
    "for i in ind:\n",
    "    num,index = i\n",
    "    print('\\x1b[1;36m'+\"Topic\"+'\\x1b[0m',num,\": This topic talks about\",'\\x1b[1;31m'+topic_dic[num]  +'\\x1b[0m')\n",
    "    print(\"\")\n",
    "    print(\"Most Representative documents for the topic:\")\n",
    "    print(\"\")\n",
    "    for j in range(len(index)):\n",
    "        print(wrapper.wrap(text = clean_data_og.iloc[index[j]].review))\n",
    "        print(\" \")"
   ]
  },
  {
   "cell_type": "code",
   "execution_count": 305,
   "metadata": {},
   "outputs": [],
   "source": [
    "#saving the final model\n",
    "nmf11.save(\"nmf11_final_\")"
   ]
  },
  {
   "cell_type": "code",
   "execution_count": 307,
   "metadata": {},
   "outputs": [],
   "source": [
    "#I also want to save my stop-words for future use\n",
    "import pickle\n",
    "with open('stop_words_amazon', 'wb') as f:\n",
    "    pickle.dump(stop_words, f)"
   ]
  },
  {
   "cell_type": "code",
   "execution_count": null,
   "metadata": {},
   "outputs": [],
   "source": []
  }
 ],
 "metadata": {
  "kernelspec": {
   "display_name": "Python 3",
   "language": "python",
   "name": "python3"
  },
  "language_info": {
   "codemirror_mode": {
    "name": "ipython",
    "version": 3
   },
   "file_extension": ".py",
   "mimetype": "text/x-python",
   "name": "python",
   "nbconvert_exporter": "python",
   "pygments_lexer": "ipython3",
   "version": "3.7.3"
  }
 },
 "nbformat": 4,
 "nbformat_minor": 2
}
